{
 "cells": [
  {
   "cell_type": "markdown",
   "metadata": {},
   "source": [
    "#Lab 1\n",
    "\n",
    "Note: If you want to use print statement to output without newline, please add the\n",
    "following statement at the beginning for python 2.X. No necessary to add this for\n",
    "python 3.X.\n",
    "from __future__ import print_function\n",
    "Then whenever you use “print”, you use: print(‘something’, end=‘’)"
   ]
  },
  {
   "cell_type": "markdown",
   "metadata": {},
   "source": [
    "1. Write a Python program that prints each item and its corresponding type from the following list. (10 mins) Sample List: datalist = [1452, 11.23, 1+2j, True, 'University of Maryland', (0, -1),[5, 12],{\"class\":'404', \"section\":'A'}]"
   ]
  },
  {
   "cell_type": "code",
   "execution_count": null,
   "metadata": {},
   "outputs": [],
   "source": [
    "datalist =  [1452, 11.23, 1+2j, True, 'University of Maryland', (0, -1),[5, 12], {\"class\":'404', \"section\":'A'}]\n",
    "for data in datalist:\n",
    "    print(\"Data: \" +str(data).ljust(40) +\" Type: \" +str(type(data)))"
   ]
  },
  {
   "cell_type": "markdown",
   "metadata": {},
   "source": [
    "2. Create a calculator that can add, subtract, multiply or divide depending upon the input from the user, using loop and conditional statements. (20 mins) Sample running output: Select operation: 1.Add 2.Subtract 3.Multiply 4.Divide Enter choice (1/2/3/4): 3 Enter first number: 15 Enter second number: 14 15 * 14 = 210 Do you want to do another calculation (y/n)? n (if ‘y’, run your program again) Bye…"
   ]
  },
  {
   "cell_type": "code",
   "execution_count": null,
   "metadata": {},
   "outputs": [],
   "source": [
    "while(True):\n",
    "    print(\"Select Operations: 1.Add 2.Subtract 3.Multiply 4.Divide\")\n",
    "    line1 = input(\"Enter choice (1/2/3/4): \")\n",
    "    num1  = input(\"Enter 1st Number \")\n",
    "    num2  = input(\"Enter 2nd Number \")\n",
    "\n",
    "    print(\"Selected Operation is: \"+str(line1))\n",
    "    if int(line1)==1:\n",
    "        print(\"Calculator Result is : \" + str(int(num1)+int(num2)))\n",
    "    elif int(line1)==2:\n",
    "        print(\"Calculator Result is : \" + str(int(num1)-int(num2)))\n",
    "    elif int(line1)==3:\n",
    "        print(\"Calculator Result is : \" + str(int(num1)*int(num2)))\n",
    "    elif int(line1)==4:\n",
    "        print(\"Calculator Result is : \" + str(int(num1)/int(num2)))\n",
    "    else:\n",
    "        print(\"Invalid Inputs, please Enter another Calculation\")\n",
    "\n",
    "    line2 = input(\"Do you want to do another calculation (y/n)? \")\n",
    "    print(\"Selected Choice is: \"+ str(line2))\n",
    "    print()\n",
    "    if line2=='n':\n",
    "        break\n",
    "print(\"Bye...\")"
   ]
  },
  {
   "cell_type": "markdown",
   "metadata": {},
   "source": [
    "3. Write a Python program to construct the following pattern, using a nested loop. The longest line (n) is from user input (e.g., n=5 for the following pattern). (45 mins)\n",
    "*\n",
    "* *\n",
    "* * *\\n\n",
    "* * * * \\n\n",
    "* * * * * \\n\n",
    "* * * *\\n\n",
    "* * *\\n\n",
    "* *\n",
    "*"
   ]
  },
  {
   "cell_type": "code",
   "execution_count": 2,
   "metadata": {},
   "outputs": [
    {
     "name": "stdout",
     "output_type": "stream",
     "text": [
      "Enter n: 5\n",
      "\n",
      "*\n",
      "**\n",
      "***\n",
      "****\n",
      "******\n",
      "*****\n",
      "****\n",
      "***\n",
      "**\n",
      "*\n"
     ]
    }
   ],
   "source": [
    "num = input(\"Enter n: \")\n",
    "i=0\n",
    "while(i<int(num)):\n",
    "    print(\"*\" *i)\n",
    "    i=i+1\n",
    "j= i+1\n",
    "while(j>0):\n",
    "    print(\"*\" *j)\n",
    "    j=j-1"
   ]
  },
  {
   "cell_type": "code",
   "execution_count": 2,
   "metadata": {},
   "outputs": [
    {
     "name": "stdout",
     "output_type": "stream",
     "text": [
      "Enter a number so see Magic : 5\n",
      "* \n",
      "* * \n",
      "* * * \n",
      "* * * * \n",
      "* * * * * \n",
      "* * * * \n",
      "* * * \n",
      "* * \n",
      "* \n"
     ]
    }
   ],
   "source": [
    "x=int(input(\"Enter a number so see Magic : \"))\n",
    "j=x-1\n",
    "\n",
    "for i in range(1, x+1):\n",
    "    print(\"* \" *i)\n",
    "for j in range(j, 0, -1):   \n",
    "    print(\"* \" *j)"
   ]
  },
  {
   "cell_type": "code",
   "execution_count": 10,
   "metadata": {},
   "outputs": [
    {
     "name": "stdout",
     "output_type": "stream",
     "text": [
      "\n",
      "\n",
      "* \n",
      "\n",
      "* \n",
      "* * \n",
      "\n",
      "* \n",
      "* * \n",
      "* * * \n",
      "\n",
      "* \n",
      "* * \n",
      "* * * \n",
      "* * * * \n",
      "\n",
      "* \n",
      "* * \n",
      "* * * \n",
      "* * * * \n",
      "* * * * * \n",
      "\n",
      "* \n",
      "* * \n",
      "* * * \n",
      "* * * * \n",
      "* * * * * \n",
      "\n",
      "* \n",
      "* * \n",
      "* * * \n",
      "* * * * \n",
      "* * * * * \n",
      "\n",
      "* \n",
      "* * \n",
      "* * * \n",
      "* * * * \n",
      "* * * * * \n"
     ]
    }
   ],
   "source": [
    "n=5\n",
    "for i in range(n*2):\n",
    "    for j in range(i):\n",
    "        print('* '*j)\n",
    "        if(j==n):\n",
    "            break"
   ]
  },
  {
   "cell_type": "code",
   "execution_count": null,
   "metadata": {},
   "outputs": [],
   "source": []
  }
 ],
 "metadata": {
  "kernelspec": {
   "display_name": "Python 3",
   "language": "python",
   "name": "python3"
  },
  "language_info": {
   "codemirror_mode": {
    "name": "ipython",
    "version": 3
   },
   "file_extension": ".py",
   "mimetype": "text/x-python",
   "name": "python",
   "nbconvert_exporter": "python",
   "pygments_lexer": "ipython3",
   "version": "3.7.4"
  }
 },
 "nbformat": 4,
 "nbformat_minor": 2
}
