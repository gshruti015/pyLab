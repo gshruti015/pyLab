{
 "cells": [
  {
   "cell_type": "markdown",
   "metadata": {},
   "source": [
    "#Lab 1\n",
    "\n",
    "Note: If you want to use print statement to output without newline, please add the\n",
    "following statement at the beginning for python 2.X. No necessary to add this for\n",
    "python 3.X.\n",
    "from __future__ import print_function\n",
    "Then whenever you use “print”, you use: print(‘something’, end=‘’)"
   ]
  },
  {
   "cell_type": "markdown",
   "metadata": {},
   "source": [
    "1. Write a Python program that prints each item and its corresponding type from the following list. (10 mins) Sample List: datalist = [1452, 11.23, 1+2j, True, 'University of Maryland', (0, -1),[5, 12],{\"class\":'404', \"section\":'A'}]"
   ]
  },
  {
   "cell_type": "code",
   "execution_count": 3,
   "metadata": {},
   "outputs": [
    {
     "name": "stdout",
     "output_type": "stream",
     "text": [
      "Data: 1452                                     Type: <class 'int'>\n",
      "Data: 11.23                                    Type: <class 'float'>\n",
      "Data: (1+2j)                                   Type: <class 'complex'>\n",
      "Data: True                                     Type: <class 'bool'>\n",
      "Data: University of Maryland                   Type: <class 'str'>\n",
      "Data: (0, -1)                                  Type: <class 'tuple'>\n",
      "Data: [5, 12]                                  Type: <class 'list'>\n",
      "Data: {'class': '404', 'section': 'A'}         Type: <class 'dict'>\n"
     ]
    }
   ],
   "source": [
    "datalist =  [1452, 11.23, 1+2j, True, 'University of Maryland', (0, -1),[5, 12], {\"class\":'404', \"section\":'A'}]\n",
    "for data in datalist:\n",
    "    print(\"Data: \" +str(data).ljust(40) +\" Type: \" +str(type(data)))"
   ]
  },
  {
   "cell_type": "markdown",
   "metadata": {},
   "source": [
    "2. Create a calculator that can add, subtract, multiply or divide depending upon the input from the user, using loop and conditional statements. (20 mins) Sample running output: Select operation: 1.Add 2.Subtract 3.Multiply 4.Divide Enter choice (1/2/3/4): 3 Enter first number: 15 Enter second number: 14 15 * 14 = 210 Do you want to do another calculation (y/n)? n (if ‘y’, run your program again) Bye…"
   ]
  },
  {
   "cell_type": "code",
   "execution_count": 2,
   "metadata": {},
   "outputs": [
    {
     "name": "stdout",
     "output_type": "stream",
     "text": [
      "Select Operations: 1.Add 2.Subtract 3.Multiply 4.Divide\n",
      "Enter choice (1/2/3/4): 1\n",
      "Enter 1st Number 3\n",
      "Enter 2nd Number 4\n",
      "Selected Operation is: 1\n",
      "Calculator Result is : 7\n",
      "Do you want to do another calculation (y/n)? y\n",
      "Selected Choice is: y\n",
      "\n",
      "Select Operations: 1.Add 2.Subtract 3.Multiply 4.Divide\n",
      "Enter choice (1/2/3/4): 3\n",
      "Enter 1st Number 45\n",
      "Enter 2nd Number 6\n",
      "Selected Operation is: 3\n",
      "Calculator Result is : 270\n",
      "Do you want to do another calculation (y/n)? n\n",
      "Selected Choice is: n\n",
      "\n",
      "Bye...\n"
     ]
    }
   ],
   "source": [
    "while(True):\n",
    "    print(\"Select Operations: 1.Add 2.Subtract 3.Multiply 4.Divide\")\n",
    "    line1 = input(\"Enter choice (1/2/3/4): \")\n",
    "    num1  = input(\"Enter 1st Number \")\n",
    "    num2  = input(\"Enter 2nd Number \")\n",
    "\n",
    "    print(\"Selected Operation is: \"+str(line1))\n",
    "    if int(line1)==1:\n",
    "        print(\"Calculator Result is : \" + str(int(num1)+int(num2)))\n",
    "    elif int(line1)==2:\n",
    "        print(\"Calculator Result is : \" + str(int(num1)-int(num2)))\n",
    "    elif int(line1)==3:\n",
    "        print(\"Calculator Result is : \" + str(int(num1)*int(num2)))\n",
    "    elif int(line1)==4:\n",
    "        print(\"Calculator Result is : \" + str(int(num1)/int(num2)))\n",
    "    else:\n",
    "        print(\"Invalid Inputs, please Enter another Calculation\")\n",
    "\n",
    "    line2 = input(\"Do you want to do another calculation (y/n)? \")\n",
    "    print(\"Selected Choice is: \"+ str(line2))\n",
    "    print()\n",
    "    if line2=='n':\n",
    "        break\n",
    "print(\"Bye...\")"
   ]
  },
  {
   "cell_type": "markdown",
   "metadata": {},
   "source": [
    "3. Write a Python program to construct the following pattern, using a nested loop. The longest line (n) is from user input (e.g., n=5 for the following pattern). (45 mins)\n",
    "```\n",
    "*\n",
    "* *\n",
    "* * *\n",
    "* * * * \n",
    "* * * * * \n",
    "* * * *\n",
    "* * *\n",
    "* *\n",
    "*"
   ]
  },
  {
   "cell_type": "code",
   "execution_count": 3,
   "metadata": {},
   "outputs": [
    {
     "name": "stdout",
     "output_type": "stream",
     "text": [
      "Enter n: 7\n",
      "\n",
      "*\n",
      "**\n",
      "***\n",
      "****\n",
      "*****\n",
      "******\n",
      "********\n",
      "*******\n",
      "******\n",
      "*****\n",
      "****\n",
      "***\n",
      "**\n",
      "*\n"
     ]
    }
   ],
   "source": [
    "num = input(\"Enter n: \")\n",
    "i=0\n",
    "while(i<int(num)):\n",
    "    print(\"*\" *i)\n",
    "    i=i+1\n",
    "j= i+1\n",
    "while(j>0):\n",
    "    print(\"*\" *j)\n",
    "    j=j-1"
   ]
  }
 ],
 "metadata": {
  "kernelspec": {
   "display_name": "Python 3",
   "language": "python",
   "name": "python3"
  },
  "language_info": {
   "codemirror_mode": {
    "name": "ipython",
    "version": 3
   },
   "file_extension": ".py",
   "mimetype": "text/x-python",
   "name": "python",
   "nbconvert_exporter": "python",
   "pygments_lexer": "ipython3",
   "version": "3.7.4"
  }
 },
 "nbformat": 4,
 "nbformat_minor": 2
}
