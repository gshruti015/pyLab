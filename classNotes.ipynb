{
 "cells": [
  {
   "cell_type": "markdown",
   "metadata": {},
   "source": [
    "### print function for pritning with apostrophe s\n",
    "```\n",
    "var = 'what\\'s your name'\n",
    "\"what's your name\"\n",
    "```"
   ]
  },
  {
   "cell_type": "markdown",
   "metadata": {},
   "source": [
    "### swap two nums wihtout third variable\n",
    "```\n",
    "a=5 \n",
    "b=6\n",
    "a,b = b,a\n",
    "```"
   ]
  },
  {
   "cell_type": "markdown",
   "metadata": {},
   "source": [
    "### assign to empty list\n",
    "\n",
    "```\n",
    "x = []\n",
    "x[0] = 1\n",
    "\n",
    "---------------------------------------------------------------------------\n",
    "IndexError                                Traceback (most recent call last)\n",
    "<ipython-input-2-04a2900a8706> in <module>\n",
    "----> 1 x[0] = 1\n",
    "\n",
    "IndexError: list assignment index out of range\n",
    "\n",
    "```\n",
    "\n",
    "* This is because we are trying to assign/replace an eleemnt which is not there, for adding to an empty list, you need to use append. \n",
    "* But you can do that with dictinories"
   ]
  },
  {
   "cell_type": "markdown",
   "metadata": {},
   "source": [
    "### dict manipulation\n",
    "\n",
    "d = {'a':1, 'b':3, 'c':0}\n",
    "\n",
    "#### normal printing\n",
    "\n",
    "```\n",
    "for k, v in d.items():\n",
    "    print(k, v)\n",
    "```\n",
    "\n",
    "#### printing through one variable only, without braces\n",
    "```\n",
    "for k in d.items():\n",
    "    print(k[0], k[1])\n",
    "```\n",
    "\n",
    "#### printing through one variable only, without braces\n",
    "```\n",
    "for k in d.items():\n",
    "    print(k)\n",
    "```"
   ]
  },
  {
   "cell_type": "markdown",
   "metadata": {},
   "source": [
    "#### iterate through dictionary \n",
    "\n",
    "```\n",
    "d = dict()\n",
    "names = ['cvs', 'cwen', 'cvs', 'sqr', 'cwen']\n",
    "for name in names:\n",
    "    d[name] = d.get(name,0) + 1\n",
    "print(d)\n",
    "```"
   ]
  },
  {
   "cell_type": "markdown",
   "metadata": {},
   "source": [
    "#### calulation in loop\n",
    "```\n",
    "answer = sum(1.0 / k if k % 2 else -1.0 / k for k in range(1, 50000))\n",
    "print(answer)\n",
    "```"
   ]
  },
  {
   "cell_type": "markdown",
   "metadata": {},
   "source": [
    "### String padding\n",
    "```\n",
    "s = 'shruti gupta'\n",
    "a1 = s.capitalize()\n",
    "a2 = s.title()\n",
    "a3 = s.center(17,'*') #shruti gupta is 12 characters long, so till 12 no action, after 13 this would work\n",
    "a4 = s.center(18,'*')\n",
    "print(a1+'\\n'+a2 +'\\n'+a3+'\\n'+a4)\n",
    "```"
   ]
  },
  {
   "cell_type": "markdown",
   "metadata": {},
   "source": [
    "### Joining strings from a list\n",
    "```\n",
    "#when x is an integer\n",
    "x = [3,4,5.5,6]\n",
    "'\\t'.join(str(i) for i in x)\n",
    "\n",
    "#when x is a string/char\n",
    "x = ['3', '4', '5.5', '6']\n",
    "'\\t'.join(x)\n",
    "```"
   ]
  },
  {
   "cell_type": "markdown",
   "metadata": {},
   "source": [
    "### How to unflatten a list/How to do a nested list comprehension\n"
   ]
  },
  {
   "cell_type": "markdown",
   "metadata": {},
   "source": [
    "```\n",
    "#with two loops\n",
    "non_flat = [ [1,2,3], [4,5,6], [7,8] ]\n",
    "m = [y for x in non_flat for y in x]\n",
    "print(m)\n",
    "```"
   ]
  },
  {
   "cell_type": "markdown",
   "metadata": {},
   "source": [
    "```\n",
    "#with three loops\n",
    "non_flat = [ [[1,2],[3]], [[4,5],[6]]]\n",
    "m = [i for x in non_flat for y in x for i in y]\n",
    "print(m)\n",
    "```"
   ]
  },
  {
   "cell_type": "markdown",
   "metadata": {},
   "source": [
    "```\n",
    "#equivalent of three loops via for \n",
    "for x in non_flat:\n",
    "    for y in x:\n",
    "        for i in y:\n",
    "            print(i)\n",
    "```"
   ]
  },
  {
   "cell_type": "markdown",
   "metadata": {},
   "source": [
    "```\n",
    "#an example with condition\n",
    "non_flat = [ [1,2,3], [4,5,6], [7,8]]\n",
    "for x in non_flat:\n",
    "    if len(x) > 2:\n",
    "        for y in x:\n",
    "            print(y)\n",
    "            \n",
    "m = [ y for x in non_flat if len(x) > 2 for y in x ]\n",
    "```"
   ]
  }
 ],
 "metadata": {
  "kernelspec": {
   "display_name": "Python 3",
   "language": "python",
   "name": "python3"
  },
  "language_info": {
   "codemirror_mode": {
    "name": "ipython",
    "version": 3
   },
   "file_extension": ".py",
   "mimetype": "text/x-python",
   "name": "python",
   "nbconvert_exporter": "python",
   "pygments_lexer": "ipython3",
   "version": "3.7.4"
  }
 },
 "nbformat": 4,
 "nbformat_minor": 2
}
