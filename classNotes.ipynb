{
 "cells": [
  {
   "cell_type": "markdown",
   "metadata": {},
   "source": [
    "### print function for pritning with apostrophe s\n",
    "```\n",
    "var = 'what\\'s your name'\n",
    "\"what's your name\"\n",
    "```"
   ]
  },
  {
   "cell_type": "markdown",
   "metadata": {},
   "source": [
    "### swap two nums wihtout third variable\n",
    "```\n",
    "a=5 \n",
    "b=6\n",
    "a,b = b,a\n",
    "```"
   ]
  },
  {
   "cell_type": "markdown",
   "metadata": {},
   "source": [
    "### assign to empty list\n",
    "\n",
    "```\n",
    "x = []\n",
    "x[0] = 1\n",
    "\n",
    "---------------------------------------------------------------------------\n",
    "IndexError                                Traceback (most recent call last)\n",
    "<ipython-input-2-04a2900a8706> in <module>\n",
    "----> 1 x[0] = 1\n",
    "\n",
    "IndexError: list assignment index out of range\n",
    "\n",
    "```\n",
    "\n",
    "* This is because we are trying to assign/replace an eleemnt which is not there, for adding to an empty list, you need to use append. \n",
    "* But you can do that with dictinories"
   ]
  },
  {
   "cell_type": "markdown",
   "metadata": {},
   "source": [
    "### dict manipulation\n",
    "\n",
    "d = {'a':1, 'b':3, 'c':0}\n",
    "\n",
    "#### normal printing\n",
    "\n",
    "```\n",
    "for k, v in d.items():\n",
    "    print(k, v)\n",
    "```\n",
    "\n",
    "#### printing through one variable only, without braces\n",
    "```\n",
    "for k in d.items():\n",
    "    print(k[0], k[1])\n",
    "```\n",
    "\n",
    "#### printing through one variable only, without braces\n",
    "```\n",
    "for k in d.items():\n",
    "    print(k)\n",
    "```"
   ]
  },
  {
   "cell_type": "markdown",
   "metadata": {},
   "source": [
    "#### iterate through dictionary \n",
    "\n",
    "```\n",
    "d = dict()\n",
    "names = ['cvs', 'cwen', 'cvs', 'sqr', 'cwen']\n",
    "for name in names:\n",
    "    d[name] = d.get(name,0) + 1\n",
    "print(d)\n",
    "```"
   ]
  },
  {
   "cell_type": "markdown",
   "metadata": {},
   "source": [
    "#### calulation in loop\n",
    "```\n",
    "answer = sum(1.0 / k if k % 2 else -1.0 / k for k in range(1, 50000))\n",
    "print(answer)\n",
    "```"
   ]
  },
  {
   "cell_type": "markdown",
   "metadata": {},
   "source": [
    "### String padding\n",
    "```\n",
    "s = 'shruti gupta'\n",
    "a1 = s.capitalize()\n",
    "a2 = s.title()\n",
    "a3 = s.center(17,'*') #shruti gupta is 12 characters long, so till 12 no action, after 13 this would work\n",
    "a4 = s.center(18,'*')\n",
    "print(a1+'\\n'+a2 +'\\n'+a3+'\\n'+a4)\n",
    "```"
   ]
  },
  {
   "cell_type": "markdown",
   "metadata": {},
   "source": [
    "### Joining strings from a list\n",
    "```\n",
    "#when x is an integer\n",
    "x = [3,4,5.5,6]\n",
    "'\\t'.join(str(i) for i in x)\n",
    "\n",
    "\\t\n",
    "3\t4\t5.5\t6\n",
    "\n",
    "\\n\n",
    "3\n",
    "4\n",
    "5.5\n",
    "6\n",
    "\n",
    "\n",
    "#when x is a string/char\n",
    "x = ['3', '4', '5.5', '6']\n",
    "'\\t'.join(x)\n",
    "```"
   ]
  },
  {
   "cell_type": "markdown",
   "metadata": {},
   "source": [
    "### How to unflatten a list/How to do a nested list comprehension\n"
   ]
  },
  {
   "cell_type": "markdown",
   "metadata": {},
   "source": [
    "```\n",
    "#with two loops\n",
    "non_flat = [ [1,2,3], [4,5,6], [7,8] ]\n",
    "m = [y for x in non_flat for y in x]\n",
    "print(m)\n",
    "```"
   ]
  },
  {
   "cell_type": "markdown",
   "metadata": {},
   "source": [
    "```\n",
    "#with three loops\n",
    "non_flat = [ [[1,2],[3]], [[4,5],[6]]]\n",
    "m = [i for x in non_flat for y in x for i in y]\n",
    "print(m)\n",
    "```"
   ]
  },
  {
   "cell_type": "markdown",
   "metadata": {},
   "source": [
    "```\n",
    "#equivalent of three loops via for \n",
    "for x in non_flat:\n",
    "    for y in x:\n",
    "        for i in y:\n",
    "            print(i)\n",
    "```"
   ]
  },
  {
   "cell_type": "markdown",
   "metadata": {},
   "source": [
    "```\n",
    "#an example with condition\n",
    "non_flat = [ [1,2,3], [4,5,6], [7,8]]\n",
    "for x in non_flat:\n",
    "    if len(x) > 2:\n",
    "        for y in x:\n",
    "            print(y)\n",
    "            \n",
    "m = [ y for x in non_flat if len(x) > 2 for y in x ]\n",
    "```"
   ]
  },
  {
   "cell_type": "markdown",
   "metadata": {},
   "source": [
    "# Map function \n",
    "### Can be used with inbuilt/long user defined functions or lambda functions (user defined funcs which are one liners):\n",
    "\n",
    "```\n",
    "#1.\n",
    "def square(x):\n",
    "    return x*x\n",
    "numbers=[1,2,3,4,5]\n",
    "sqrList=map(square, numbers)\n",
    "\n",
    "#2. \n",
    "sqrList = map(lambda x: x*x,[1,2,3,4])\n",
    "\n",
    "#3.\n",
    "bases=[10, 20, 30, 40, 50]\n",
    "index=[1, 2, 3, 4, 5]\n",
    "powers=list(map(pow, bases, index))\n",
    "```"
   ]
  },
  {
   "cell_type": "markdown",
   "metadata": {},
   "source": [
    "### input more than one inputs in one line throup map function, if you want to split them :\n",
    "\n",
    "```\n",
    "arr1 = map(int, input().split(','))\n",
    "#but u can only access them using next, so if you wanna access them using normal, put it in list:\n",
    "arr2 = list(map(int, input().split(',')))\n",
    "```"
   ]
  },
  {
   "cell_type": "markdown",
   "metadata": {},
   "source": [
    "### u can print in one line with list comprehension\n",
    "```\n",
    "print([[i,j,k] for i in range(2) for j in range(2) for k in range(2) if i+j+k!=2])\n",
    "\n",
    "[[0, 0, 0], [0, 0, 1], [0, 1, 0], [1, 0, 0], [1, 1, 1]]\n",
    "```"
   ]
  },
  {
   "cell_type": "markdown",
   "metadata": {},
   "source": [
    "# lambda function  - used with map, filter and reduce\n",
    "\n",
    "```\n",
    "arr = [2,3,4,5,6,6]\n",
    "\n",
    "1. \n",
    "op1 = list(map(lambda x : x != max(arr), arr)) #applies a function to all the items in an input_list\n",
    "\n",
    "#print(op1)\n",
    "#[True, True, True, True, False, False]\n",
    "\n",
    "2. use case => remove all occurances of a certain character in list\n",
    "op2 = list(filter(lambda x : x != max(arr), arr)) # creates a list of elements for which a function returns true\n",
    "\n",
    "# arr = [x for x in arr if x != max(arr)]\n",
    "#same thing without using lambda\n",
    "# print(op2)\n",
    "# [2, 3, 4, 5]\n",
    "\n",
    "3. \n",
    "op3 = reduce(lambda x,y : x+y , arr) #function reduce(func, seq) continually applies the function func() to the sequence seq. It returns a single value\n",
    "\n",
    "# print(op3)\n",
    "# 23\n",
    "\n",
    "```"
   ]
  },
  {
   "cell_type": "markdown",
   "metadata": {},
   "source": [
    "# Useful use case of lambda functions:\n",
    "### Calculating the sum of the numbers from 1 to 100:\n",
    "```\n",
    "reduce(lambda x, y: x+y, range(1,101))\n",
    "\n",
    "#5050\n",
    "```"
   ]
  },
  {
   "cell_type": "markdown",
   "metadata": {},
   "source": [
    "### input function\n",
    "\n",
    "```\n",
    "for _ in range(int(input())):\n",
    "    name = input()\n",
    "    score = float(input())\n",
    "\n",
    "for _ in range(0,int(input())):\n",
    "    marksheet.append([input(), float(input())])\n",
    "\n",
    "\n",
    "2\n",
    "shf\n",
    "34\n",
    "fdgfd\n",
    "34\n",
    "```\n",
    "\n",
    "```\n",
    "n = int(input())\n",
    "student_marks = {}\n",
    "for _ in range(n):\n",
    "    name, *line = input().split()\n",
    "    scores = list(map(float, line))\n",
    "    student_marks[name] = scores\n",
    "query_name = input()\n",
    "    \n",
    "#to print avg of particual key from dictionary \n",
    "m = list(student_marks[query_name])\n",
    "\n",
    "# note the use of %.2f to see how to print with 2 decimal places, even with numbers that have lower number of decimal points \n",
    "print(\"%.2f\"%(sum(m)/len(m)), end='')\n",
    "```\n",
    "\n",
    "\n",
    "```\n",
    "mop = (int(input()) for  i in range(4))\n",
    "```\n",
    "\n",
    "\n",
    "```\n",
    "# making a list of lists, in one line\n",
    "s2=[]\n",
    "for item in range(int(input())):\n",
    "    s2.append(input().split())\n",
    "print(s2)\n",
    "\n",
    "3\n",
    "df 4 5\n",
    "23 th 6\n",
    "sh 5 7\n",
    "[['df', '4', '5'], ['23', 'th', '6'], ['sh', '5', '7']]\n",
    "```"
   ]
  },
  {
   "cell_type": "markdown",
   "metadata": {},
   "source": [
    "## Whats a set\n",
    "### A Set is an unordered collection data type that is iterable, mutable, and has no duplicate elements."
   ]
  },
  {
   "cell_type": "markdown",
   "metadata": {},
   "source": [
    "## whats eval and any\n",
    "\n",
    "```\n",
    "s = input()\n",
    "test = ['isalnum', 'isalpha', 'isdigit', 'isupper', 'islower']\n",
    "\n",
    "for t in test:\n",
    "    print(any(eval(\"c.\"+ t +\"()\") for c in s))\n",
    "\n",
    "qA2\n",
    "True\n",
    "True\n",
    "True\n",
    "True\n",
    "True  \n",
    "```"
   ]
  },
  {
   "cell_type": "markdown",
   "metadata": {},
   "source": [
    "## concept of stride - skipping charcters in list while traversing \n",
    "```\n",
    "string = 'ABCDEFGHIJKLIMNOQRSTUVWXYZ'\n",
    "max_width=4\n",
    "\n",
    "v = [string[i:max_width+i] for i in range(0,len(string),max_width)]\n",
    "print('\\n'.join(i for i in v))\n",
    "```"
   ]
  },
  {
   "cell_type": "markdown",
   "metadata": {},
   "source": [
    "### use of string padding\n",
    "```\n",
    "n = [9,27]\n",
    "pattern = ['-'*int((n[1]-3*i)/2)+'.|.'*(i)+'-'*int((n[1]-3*i)/2) for i in range(1, n[0],2)]\n",
    "print('\\n'.join(pattern))\n",
    "print('WELCOME'.center(n[1],'-'))\n",
    "print('\\n'.join(pattern[::-1]))\n",
    "```"
   ]
  }
 ],
 "metadata": {
  "kernelspec": {
   "display_name": "Python 3",
   "language": "python",
   "name": "python3"
  },
  "language_info": {
   "codemirror_mode": {
    "name": "ipython",
    "version": 3
   },
   "file_extension": ".py",
   "mimetype": "text/x-python",
   "name": "python",
   "nbconvert_exporter": "python",
   "pygments_lexer": "ipython3",
   "version": "3.7.4"
  }
 },
 "nbformat": 4,
 "nbformat_minor": 2
}
