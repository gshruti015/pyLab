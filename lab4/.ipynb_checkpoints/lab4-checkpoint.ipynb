{
 "cells": [
  {
   "cell_type": "code",
   "execution_count": 106,
   "metadata": {},
   "outputs": [],
   "source": [
    "import mysql.connector\n",
    "con = mysql.connector.connect(host='localhost',user='root',password='rootuser',database='course')\n",
    "cur = con.cursor()"
   ]
  },
  {
   "cell_type": "code",
   "execution_count": 107,
   "metadata": {},
   "outputs": [],
   "source": [
    "query = 'CREATE TABLE course.doctors (docID INT(11) PRIMARY KEY, name VARCHAR(50) DEFAULT NULL, speciality  VARCHAR(50) DEFAULT NULL, numReviews INT(11) DEFAULT NULl, city tinytext DEFAULT NULL, state varchar(2) DEFAULT NULL)'\n",
    "cur.execute(query)"
   ]
  },
  {
   "cell_type": "code",
   "execution_count": 108,
   "metadata": {},
   "outputs": [],
   "source": [
    "filename = 'doctors.txt'\n",
    "try:\n",
    "    file = open('doctors.txt','r',encoding='utf-8',errors='ignore')\n",
    "    fileread = file.readlines()\n",
    "except UnicodeEncodeError: \n",
    "    pass\n",
    "\n",
    "final=[]\n",
    "\n",
    "for i in range(len(fileread)):\n",
    "    final.append(fileread[i].rstrip('\\n').split(','))\n",
    "    \n",
    "for i in range(len(final)):\n",
    "    final[i][0] = int(final[i][0])\n",
    "    final[i][3] = int(final[i][3])\n",
    "\n",
    "datapush = [tuple(i) for i in final]\n",
    "\n",
    "print(final[:10])\n",
    "print(datapush[:10])"
   ]
  },
  {
   "cell_type": "code",
   "execution_count": 110,
   "metadata": {},
   "outputs": [],
   "source": [
    "for data in datapush:\n",
    "    insert = \"insert into doctors(docID, name, speciality, numReviews, city, state) values\" + str(data)\n",
    "    cur.execute(insert)  \n",
    "con.commit()"
   ]
  },
  {
   "cell_type": "code",
   "execution_count": 152,
   "metadata": {},
   "outputs": [
    {
     "name": "stdout",
     "output_type": "stream",
     "text": [
      "Number of Doctors in MD:  8536\n",
      "Avg Reviews for Doctors in MD:  3.4866\n"
     ]
    }
   ],
   "source": [
    "def fun1():\n",
    "        q1 = \"select count(*) from doctors where state = 'MD'\"\n",
    "        cur.execute(q1)\n",
    "        res = cur.fetchone()\n",
    "        print(\"Number of Doctors in MD: \",res[0])\n",
    "\n",
    "        q2 = \"select avg(numReviews) from doctors where state ='MD'\"\n",
    "        cur.execute(q2)\n",
    "        res = cur.fetchone()\n",
    "        print(\"Avg Reviews for Doctors in MD: \",res[0])\n",
    "\n",
    "fun1()"
   ]
  },
  {
   "cell_type": "code",
   "execution_count": 168,
   "metadata": {},
   "outputs": [
    {
     "name": "stdout",
     "output_type": "stream",
     "text": [
      "Dr. Paul J. Mackoul            Gynecologist (OBGYN)\n",
      "Dr. Franklin D. Richards       Cosmetic Surgeon / Plastic Surgeon\n",
      "Dr. Lucie Duclos               Cosmetic Surgeon / Plastic Surgeon\n",
      "Dr. Roanne J. Wiczer           Dentist\n",
      "Dr. Kurt J. Bennett            Optometrist\n",
      "Dr. Neal Kravitz               Orthodontist\n",
      "Dr. George L. Grillon          Oral Surgeon\n",
      "Dr. Douglas L. Forman          Cosmetic Surgeon / Plastic Surgeon\n",
      "Dr. Chris E. Majewski          Podiatrist\n",
      "Dr. Kurt Pierce                Orthodontist\n"
     ]
    }
   ],
   "source": [
    "def fun2():\n",
    "        q = \"select name, speciality from doctors where state = 'MD' order by numReviews desc limit 10\"\n",
    "        cur.execute(q)\n",
    "        res = cur.fetchall()\n",
    "        for item in v:\n",
    "            i1 = list(item)\n",
    "            print(i1[0].ljust(30),i1[1])\n",
    "\n",
    "fun2()"
   ]
  },
  {
   "cell_type": "code",
   "execution_count": 153,
   "metadata": {},
   "outputs": [],
   "source": [
    "def fun3():\n",
    "        q1 = \"update doctors set state = 'U' where state = '-'\"\n",
    "        cur.execute(q1)\n",
    "        con.commit()\n",
    "        q2 = \"update doctors set city = 'U' where city = '-'\"\n",
    "        cur.execute(q2)\n",
    "        con.commit()\n",
    "\n",
    "fun3()"
   ]
  }
 ],
 "metadata": {
  "kernelspec": {
   "display_name": "Python 3",
   "language": "python",
   "name": "python3"
  },
  "language_info": {
   "codemirror_mode": {
    "name": "ipython",
    "version": 3
   },
   "file_extension": ".py",
   "mimetype": "text/x-python",
   "name": "python",
   "nbconvert_exporter": "python",
   "pygments_lexer": "ipython3",
   "version": "3.7.4"
  }
 },
 "nbformat": 4,
 "nbformat_minor": 2
}
