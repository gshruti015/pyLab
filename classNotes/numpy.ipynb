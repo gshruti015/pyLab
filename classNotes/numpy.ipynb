{
 "cells": [
  {
   "cell_type": "markdown",
   "metadata": {
    "collapsed": true
   },
   "source": [
    "# NumPy"
   ]
  },
  {
   "cell_type": "markdown",
   "metadata": {},
   "source": [
    "**NumPy**--which stands for Numerical Python--is the foundational package for performing scientific computing. In addition, it provides the primary data structure--*the n-dimensional array*--on which the **pandas** package is built. NumPy includes extensive functionality, but we will use it primarily for:\n",
    "\n",
    "* Fast (vectorized) array operations for data processing\n",
    "* Efficient descriptive statistics\n",
    "* Manipulations for merging multiple data sets"
   ]
  },
  {
   "cell_type": "code",
   "execution_count": 2,
   "metadata": {},
   "outputs": [],
   "source": [
    "# Import statement\n",
    "import numpy as np"
   ]
  },
  {
   "cell_type": "markdown",
   "metadata": {},
   "source": [
    "## ndarrays"
   ]
  },
  {
   "cell_type": "markdown",
   "metadata": {},
   "source": [
    "The ndarray is an n-dimensional array object, similar to a list but designed to facilitate fast computation. However, in order for arrays to be useful, they must hold a single type of object. We will mostly focus on numerical (int, float) and boolean arrays.\n",
    "\n",
    "Arrays will most likely be loaded from external data sources (later), but for now, we can create them via casting (using the np.**array** function) or using one of the following generating functions (or class of functions):\n",
    "\n",
    "* np.**arange**(*start*, *stop*, *step*) (similar to range function for lists)\n",
    "* np.**zeros**(*shape*), np.**ones**(*shape*) (where *shape* is a sequence of dimension sizes)\n",
    "* np.random.**rand**(*d0*,*d1*,...,*dn*) (where *d0*,*d1*,...,*dn* are dimension sizes)\n",
    "* np.random.**randn**(*d0*,*d1*,...,*dn*) (where *d0*,*d1*,...,*dn* are dimension sizes)"
   ]
  },
  {
   "cell_type": "code",
   "execution_count": 2,
   "metadata": {},
   "outputs": [
    {
     "data": {
      "text/plain": [
       "array([ 1,  5, -1,  2,  4])"
      ]
     },
     "execution_count": 2,
     "metadata": {},
     "output_type": "execute_result"
    }
   ],
   "source": [
    "# Casting from list\n",
    "np.array([1,5,-1,2,4])"
   ]
  },
  {
   "cell_type": "code",
   "execution_count": 3,
   "metadata": {},
   "outputs": [
    {
     "data": {
      "text/plain": [
       "array([0, 1, 2, 3, 4, 5, 6, 7, 8, 9])"
      ]
     },
     "execution_count": 3,
     "metadata": {},
     "output_type": "execute_result"
    }
   ],
   "source": [
    "# np.arange\n",
    "arr1d = np.arange(10)\n",
    "arr1d"
   ]
  },
  {
   "cell_type": "code",
   "execution_count": 4,
   "metadata": {},
   "outputs": [
    {
     "data": {
      "text/plain": [
       "array([[1., 1., 1., 1., 1., 1., 1., 1., 1., 1.],\n",
       "       [1., 1., 1., 1., 1., 1., 1., 1., 1., 1.],\n",
       "       [1., 1., 1., 1., 1., 1., 1., 1., 1., 1.],\n",
       "       [1., 1., 1., 1., 1., 1., 1., 1., 1., 1.],\n",
       "       [1., 1., 1., 1., 1., 1., 1., 1., 1., 1.]])"
      ]
     },
     "execution_count": 4,
     "metadata": {},
     "output_type": "execute_result"
    }
   ],
   "source": [
    "# np.ones, np.zeros\n",
    "np.ones((5,10))"
   ]
  },
  {
   "cell_type": "code",
   "execution_count": 13,
   "metadata": {},
   "outputs": [
    {
     "data": {
      "text/plain": [
       "array([[0.10957236, 0.19204457, 0.06934553],\n",
       "       [0.8453985 , 0.04668042, 0.43667118],\n",
       "       [0.29770399, 0.86051763, 0.27657797]])"
      ]
     },
     "execution_count": 13,
     "metadata": {},
     "output_type": "execute_result"
    }
   ],
   "source": [
    "# np.random.rand, np.random.randn\n",
    "arr2d = np.random.rand(3,3)\n",
    "arr2d"
   ]
  },
  {
   "cell_type": "code",
   "execution_count": 5,
   "metadata": {},
   "outputs": [
    {
     "data": {
      "text/plain": [
       "array([[-0.64135318, -0.67963489, -0.72913262],\n",
       "       [-0.77436736,  2.48251485,  0.32284936],\n",
       "       [ 1.25529653, -0.99003137,  0.53167481]])"
      ]
     },
     "execution_count": 5,
     "metadata": {},
     "output_type": "execute_result"
    }
   ],
   "source": [
    "arr2d = np.random.randn(3,3)\n",
    "arr2d"
   ]
  },
  {
   "cell_type": "code",
   "execution_count": 6,
   "metadata": {
    "scrolled": true
   },
   "outputs": [
    {
     "name": "stdout",
     "output_type": "stream",
     "text": [
      "2\n",
      "(3, 3)\n",
      "float64\n"
     ]
    }
   ],
   "source": [
    "# Common attributes\n",
    "print(arr2d.ndim) # number of dimensions\n",
    "print(arr2d.shape) # shape of array\n",
    "print(arr2d.dtype) # data type"
   ]
  },
  {
   "cell_type": "code",
   "execution_count": 7,
   "metadata": {},
   "outputs": [
    {
     "data": {
      "text/plain": [
       "array([0., 1., 2., 3., 4., 5., 6., 7., 8., 9.])"
      ]
     },
     "execution_count": 7,
     "metadata": {},
     "output_type": "execute_result"
    }
   ],
   "source": [
    "# Casting to other dtypes\n",
    "np.arange(10).astype(float)"
   ]
  },
  {
   "cell_type": "markdown",
   "metadata": {},
   "source": [
    "See https://docs.scipy.org/doc/numpy/reference/generated/numpy.ndarray.html for additional details on ndarray objects."
   ]
  },
  {
   "cell_type": "markdown",
   "metadata": {},
   "source": [
    "## Array Operations"
   ]
  },
  {
   "cell_type": "markdown",
   "metadata": {},
   "source": [
    "As previously stated, arrays are designed to support fast computation and comparison. The most common type of operations are:\n",
    "\n",
    "* Between arrays and scalars\n",
    "* Universal functions (np.func)\n",
    "    - Unary (performed on a single array): abs, sqrt, exp, log, ceil, floor, logical_not, and more\n",
    "    - Binary (performed between two arrays): +, -, /, *, **, min, max, mod, >, >=, <, <=, ==, !=, logical_and, logical_or, logical_xor\n",
    "* Mathematical and statistical functions - Available as NumPy functions (np.func) and array methods (arr.func)\n",
    "    - Aggregation: mean, sum, std, var, min/max, argmin/argmax\n",
    "    - Non-aggregation: cumsum, cumprod"
   ]
  },
  {
   "cell_type": "code",
   "execution_count": 9,
   "metadata": {},
   "outputs": [
    {
     "data": {
      "text/plain": [
       "array([[1.32040698, 1.08526154, 1.27529211],\n",
       "       [1.84241435, 1.7110496 , 1.34258231],\n",
       "       [1.13985641, 1.75312447, 1.53786653]])"
      ]
     },
     "execution_count": 9,
     "metadata": {},
     "output_type": "execute_result"
    }
   ],
   "source": [
    "# Broadcasting with a scalar\n",
    "arr2d + 1"
   ]
  },
  {
   "cell_type": "code",
   "execution_count": 13,
   "metadata": {},
   "outputs": [
    {
     "data": {
      "text/plain": [
       "array([[1.32040698, 2.08526154, 3.27529211],\n",
       "       [1.84241435, 2.7110496 , 3.34258231],\n",
       "       [1.13985641, 2.75312447, 3.53786653]])"
      ]
     },
     "execution_count": 13,
     "metadata": {},
     "output_type": "execute_result"
    }
   ],
   "source": [
    "# Broadcasting with 1-d array\n",
    "arr2d + [1,2,3]"
   ]
  },
  {
   "cell_type": "code",
   "execution_count": 14,
   "metadata": {},
   "outputs": [
    {
     "data": {
      "text/plain": [
       "array([[False, False, False],\n",
       "       [ True,  True, False],\n",
       "       [False,  True,  True]])"
      ]
     },
     "execution_count": 14,
     "metadata": {},
     "output_type": "execute_result"
    }
   ],
   "source": [
    "# Comparison with a scalar\n",
    "arr2d > 0.5"
   ]
  },
  {
   "cell_type": "code",
   "execution_count": 15,
   "metadata": {},
   "outputs": [
    {
     "data": {
      "text/plain": [
       "array([[0.56604504, 0.29199579, 0.52468286],\n",
       "       [0.91783133, 0.84323757, 0.58530532],\n",
       "       [0.37397381, 0.86782744, 0.73339385]])"
      ]
     },
     "execution_count": 15,
     "metadata": {},
     "output_type": "execute_result"
    }
   ],
   "source": [
    "# Unary functions\n",
    "np.sqrt(arr2d)"
   ]
  },
  {
   "cell_type": "code",
   "execution_count": 19,
   "metadata": {},
   "outputs": [
    {
     "name": "stdout",
     "output_type": "stream",
     "text": [
      "[[0.32040698 0.08526154 0.27529211]\n",
      " [0.84241435 0.7110496  0.34258231]\n",
      " [0.13985641 0.75312447 0.53786653]]\n"
     ]
    },
    {
     "data": {
      "text/plain": [
       "array([[0.10266064, 0.00726953, 0.07578574],\n",
       "       [0.70966194, 0.50559153, 0.11736264],\n",
       "       [0.01955982, 0.56719647, 0.28930041]])"
      ]
     },
     "execution_count": 19,
     "metadata": {},
     "output_type": "execute_result"
    }
   ],
   "source": [
    "# Binary functions\n",
    "print(arr2d)\n",
    "arr2d * arr2d"
   ]
  },
  {
   "cell_type": "code",
   "execution_count": 20,
   "metadata": {},
   "outputs": [
    {
     "data": {
      "text/plain": [
       "0.4453171458393856"
      ]
     },
     "execution_count": 20,
     "metadata": {},
     "output_type": "execute_result"
    }
   ],
   "source": [
    "# Aggregation function\n",
    "np.mean(arr2d)"
   ]
  },
  {
   "cell_type": "code",
   "execution_count": 21,
   "metadata": {},
   "outputs": [
    {
     "name": "stdout",
     "output_type": "stream",
     "text": [
      "[[0.32040698 0.08526154 0.27529211]\n",
      " [0.84241435 0.7110496  0.34258231]\n",
      " [0.13985641 0.75312447 0.53786653]]\n"
     ]
    },
    {
     "data": {
      "text/plain": [
       "array([0.32040698, 0.40566852, 0.68096063, 1.52337498, 2.23442458,\n",
       "       2.5770069 , 2.71686331, 3.46998778, 4.00785431])"
      ]
     },
     "execution_count": 21,
     "metadata": {},
     "output_type": "execute_result"
    }
   ],
   "source": [
    "# Non-aggregation function\n",
    "print(arr2d)\n",
    "arr2d.cumsum()"
   ]
  },
  {
   "cell_type": "markdown",
   "metadata": {},
   "source": [
    "## Arrays vs. Lists"
   ]
  },
  {
   "cell_type": "markdown",
   "metadata": {},
   "source": [
    "Arrays may seem similar to lists (e.g., they are both mutable and iterable sequences), but they are distinct data structures. Be sure to use an array whenever you are performing any large scale computations or comparisons."
   ]
  },
  {
   "cell_type": "code",
   "execution_count": 22,
   "metadata": {},
   "outputs": [
    {
     "name": "stdout",
     "output_type": "stream",
     "text": [
      "[0, 1, 2, 3, 4, 5, 6, 7, 8, 9, 0, 1, 2, 3, 4, 5, 6, 7, 8, 9]\n",
      "[0, 1, 2, 3, 4, 5, 6, 7, 8, 9, 0, 1, 2, 3, 4, 5, 6, 7, 8, 9, 0, 1, 2, 3, 4, 5, 6, 7, 8, 9]\n"
     ]
    }
   ],
   "source": [
    "# List operations\n",
    "L = list(range(10))\n",
    "print(L + L)\n",
    "print(L * 3)"
   ]
  },
  {
   "cell_type": "code",
   "execution_count": 32,
   "metadata": {},
   "outputs": [
    {
     "name": "stdout",
     "output_type": "stream",
     "text": [
      "[ 0  2  4  6  8 10 12 14 16 18]\n",
      "[ 0  3  6  9 12 15 18 21 24 27]\n"
     ]
    }
   ],
   "source": [
    "# Array operations\n",
    "arr = np.arange(10)\n",
    "print(arr + arr);\n",
    "print(arr * 3);"
   ]
  },
  {
   "cell_type": "markdown",
   "metadata": {},
   "source": [
    "In addition, lists do not have restrictions on the size of nested sequences, whereas arrays have restrictions for constructing a useful form of the object."
   ]
  },
  {
   "cell_type": "code",
   "execution_count": 34,
   "metadata": {},
   "outputs": [
    {
     "data": {
      "text/plain": [
       "[[1, 2, 3], [4, 5, 6, 7], [8, 9]]"
      ]
     },
     "execution_count": 34,
     "metadata": {},
     "output_type": "execute_result"
    }
   ],
   "source": [
    "[[1,2,3],[4,5,6,7],[8,9]]"
   ]
  },
  {
   "cell_type": "code",
   "execution_count": 37,
   "metadata": {},
   "outputs": [
    {
     "data": {
      "text/plain": [
       "array([[1, 2, 3],\n",
       "       [4, 5, 6],\n",
       "       [7, 8, 9]])"
      ]
     },
     "execution_count": 37,
     "metadata": {},
     "output_type": "execute_result"
    }
   ],
   "source": [
    "np.array([[1,2,3],[4,5,6],[7,8,9]])"
   ]
  },
  {
   "cell_type": "markdown",
   "metadata": {},
   "source": [
    "## Indexing and Slicing"
   ]
  },
  {
   "cell_type": "markdown",
   "metadata": {},
   "source": [
    "Indexing and slicing arrays is similar to lists..."
   ]
  },
  {
   "cell_type": "code",
   "execution_count": 38,
   "metadata": {},
   "outputs": [
    {
     "name": "stdout",
     "output_type": "stream",
     "text": [
      "5\n",
      "9\n",
      "[5 6 7]\n",
      "[0 2 4 6 8]\n"
     ]
    }
   ],
   "source": [
    "print(arr[5])\n",
    "print(arr[-1])\n",
    "print(arr[5:8])\n",
    "print(arr[::2])"
   ]
  },
  {
   "cell_type": "markdown",
   "metadata": {},
   "source": [
    "...but unlike lists, array slices are views on the original array, so any updates to the array slice will be reflected in the original array. Consider the following example, in which we combine indexing with assignment (which also works as you would expect)."
   ]
  },
  {
   "cell_type": "code",
   "execution_count": 39,
   "metadata": {},
   "outputs": [
    {
     "name": "stdout",
     "output_type": "stream",
     "text": [
      "[-10, 6, 7] [0, 1, 2, 3, 4, 5, 6, 7, 8, 9]\n"
     ]
    }
   ],
   "source": [
    "list_slice = L[5:8]\n",
    "list_slice[0] = -10\n",
    "print(list_slice, L)"
   ]
  },
  {
   "cell_type": "code",
   "execution_count": 40,
   "metadata": {},
   "outputs": [
    {
     "name": "stdout",
     "output_type": "stream",
     "text": [
      "[-10   6   7] [  0   1   2   3   4 -10   6   7   8   9]\n"
     ]
    }
   ],
   "source": [
    "arr_slice = arr[5:8]\n",
    "arr_slice[0] = -10\n",
    "print(arr_slice, arr)"
   ]
  },
  {
   "cell_type": "markdown",
   "metadata": {},
   "source": [
    "Indexing via index and boolean arrays are convenient ways of filtering an array. In this case, these operations return a copy of the array, as opposed to a view on the original array as in the case of slicing."
   ]
  },
  {
   "cell_type": "code",
   "execution_count": 41,
   "metadata": {},
   "outputs": [
    {
     "name": "stdout",
     "output_type": "stream",
     "text": [
      "[  0   1   2   3   4 -10   6   7   8   9]\n"
     ]
    },
    {
     "data": {
      "text/plain": [
       "array([1, 0, 1, 3, 9, 9])"
      ]
     },
     "execution_count": 41,
     "metadata": {},
     "output_type": "execute_result"
    }
   ],
   "source": [
    "# Index arrays - Each element in the index array is replaced by the corresponding value in the array\n",
    "print(arr)\n",
    "arr[np.array([1,0,1,3,9,-1])]"
   ]
  },
  {
   "cell_type": "code",
   "execution_count": 42,
   "metadata": {},
   "outputs": [
    {
     "name": "stdout",
     "output_type": "stream",
     "text": [
      "[  0   1   2   3   4 -10   6   7   8   9]\n"
     ]
    },
    {
     "data": {
      "text/plain": [
       "array([  0, -10])"
      ]
     },
     "execution_count": 42,
     "metadata": {},
     "output_type": "execute_result"
    }
   ],
   "source": [
    "# Boolean arrays - Each element in the array is returned if the corresponding boolean scalar is True\n",
    "print(arr)\n",
    "arr[np.array([True, False, False, False, False, True, False, False, False, False])]"
   ]
  },
  {
   "cell_type": "code",
   "execution_count": 43,
   "metadata": {},
   "outputs": [
    {
     "data": {
      "text/plain": [
       "array([  0, -10])"
      ]
     },
     "execution_count": 43,
     "metadata": {},
     "output_type": "execute_result"
    }
   ],
   "source": [
    "# Filtering via conditional\n",
    "arr[arr % 5 == 0]"
   ]
  },
  {
   "cell_type": "markdown",
   "metadata": {},
   "source": [
    "You can also use boolean arrays to learn about your data."
   ]
  },
  {
   "cell_type": "code",
   "execution_count": 44,
   "metadata": {},
   "outputs": [
    {
     "data": {
      "text/plain": [
       "49"
      ]
     },
     "execution_count": 44,
     "metadata": {},
     "output_type": "execute_result"
    }
   ],
   "source": [
    "# How much of my data satisfies a given condition?\n",
    "arr = np.random.randn(100)\n",
    "(arr > 0).sum()"
   ]
  },
  {
   "cell_type": "code",
   "execution_count": 46,
   "metadata": {},
   "outputs": [
    {
     "name": "stdout",
     "output_type": "stream",
     "text": [
      "[-1.06204261 -0.31270143  0.42023682 -0.93438386  0.67191252 -1.30759517\n",
      "  0.0129766   0.33497742  0.61173203 -2.37990021  0.1209105   2.79228336\n",
      " -0.01083915 -0.97160628 -0.18323697 -0.33430426 -0.15825336 -1.63252715\n",
      "  0.22596555  0.81567182  1.67540025  2.78012053 -0.70001067  0.23453586\n",
      " -0.68719096 -2.05923353  0.48178611 -0.21933761 -0.51808408  0.46378661\n",
      "  0.25840081 -0.08361518  0.30724442 -0.03303424 -0.39554845 -0.36067976\n",
      " -0.26780153 -0.04390018 -1.38475184 -0.61328642 -0.19911534  0.96663269\n",
      " -1.99611946  0.96143961  1.22095829  2.30447976  0.22186068  0.74932656\n",
      "  1.81572099 -2.76921623  1.32026588 -2.3332413   0.21405979 -1.77549816\n",
      "  0.52946416  1.75807168 -0.40646517  1.14315869  0.60219132  0.012172\n",
      "  0.99960299 -0.17363984 -1.07104802  0.6553653  -1.81923549  0.45012875\n",
      " -0.0677597   2.6662828  -0.51190984 -1.0965868   1.12407386  2.2298758\n",
      " -0.09906221  2.10010574 -0.76524024 -1.75219634  0.90538982  0.46879104\n",
      "  0.22705426  0.33151999 -0.14571304 -0.66490633 -1.95845857 -0.42041337\n",
      "  0.50437391 -1.6170313  -0.35190799  1.98213567  0.59176699 -0.14769338\n",
      " -0.5234539  -0.25626211  0.58702791  1.32365301  1.41041845 -1.59550888\n",
      " -0.42174286  1.13986065 -1.00024846  0.94508157]\n"
     ]
    },
    {
     "data": {
      "text/plain": [
       "False"
      ]
     },
     "execution_count": 46,
     "metadata": {},
     "output_type": "execute_result"
    }
   ],
   "source": [
    "# Do any of my data satisfy a given condition?\n",
    "print(arr)\n",
    "(arr > 3).any()"
   ]
  },
  {
   "cell_type": "code",
   "execution_count": 47,
   "metadata": {},
   "outputs": [
    {
     "data": {
      "text/plain": [
       "True"
      ]
     },
     "execution_count": 47,
     "metadata": {},
     "output_type": "execute_result"
    }
   ],
   "source": [
    "# Do all of my data satisfy a given condition?\n",
    "(np.abs(arr) < 3).all()"
   ]
  },
  {
   "cell_type": "markdown",
   "metadata": {},
   "source": [
    "Indexing and slicing multi-dimensional arrays is fairly intuitive. Whereas a single dimensional array contains 0-dimensional values (scalars), a 2-dimensional array is an array of 1-d arrays, where the first dimension represents the position of each 1-d array, and the second dimension refers to a specific position within each 1-d array (where all 1-d arrays have the same length). Similarly, a 3-dimension array has 3 dimensions corresponding to the position of each 2-d array, 1-d array, and scalar value, respectively. And so on, for higher dimensions.\n",
    "\n",
    "![](https://i.stack.imgur.com/R2IDC.png \"Multi-dimensional arrays\")\n",
    "\n",
    "When indexing and slicing into an n-d array, each dimension is accessed in order, either via successive indexing or slicing operations or a sequence of dimensional indices or slices. To retain all of the elements for a particular dimension, use the ':' operator."
   ]
  },
  {
   "cell_type": "code",
   "execution_count": 48,
   "metadata": {},
   "outputs": [
    {
     "data": {
      "text/plain": [
       "array([[0.41445673, 0.00083282, 0.05439661],\n",
       "       [0.39634514, 0.15116368, 0.38656848],\n",
       "       [0.8295717 , 0.24823093, 0.03684579]])"
      ]
     },
     "execution_count": 48,
     "metadata": {},
     "output_type": "execute_result"
    }
   ],
   "source": [
    "# 2-d array\n",
    "arr2d = np.random.rand(3,3)\n",
    "arr2d"
   ]
  },
  {
   "cell_type": "code",
   "execution_count": 49,
   "metadata": {},
   "outputs": [
    {
     "name": "stdout",
     "output_type": "stream",
     "text": [
      "0.41445672696164015\n",
      "0.41445672696164015\n"
     ]
    }
   ],
   "source": [
    "# Index specific element\n",
    "print(arr2d[0][0])\n",
    "print(arr2d[0,0])"
   ]
  },
  {
   "cell_type": "code",
   "execution_count": 50,
   "metadata": {},
   "outputs": [
    {
     "name": "stdout",
     "output_type": "stream",
     "text": [
      "[0.41445673 0.00083282 0.05439661]\n",
      "[0.41445673 0.00083282 0.05439661]\n"
     ]
    }
   ],
   "source": [
    "# Slice rows\n",
    "print(arr2d[0])\n",
    "print(arr2d[0,:])"
   ]
  },
  {
   "cell_type": "code",
   "execution_count": 51,
   "metadata": {},
   "outputs": [
    {
     "data": {
      "text/plain": [
       "array([0.41445673, 0.39634514, 0.8295717 ])"
      ]
     },
     "execution_count": 51,
     "metadata": {},
     "output_type": "execute_result"
    }
   ],
   "source": [
    "# Slice columns\n",
    "arr2d[:,0]"
   ]
  },
  {
   "cell_type": "code",
   "execution_count": 52,
   "metadata": {},
   "outputs": [
    {
     "data": {
      "text/plain": [
       "array([[0.39634514, 0.15116368],\n",
       "       [0.8295717 , 0.24823093]])"
      ]
     },
     "execution_count": 52,
     "metadata": {},
     "output_type": "execute_result"
    }
   ],
   "source": [
    "# Fancy slicing\n",
    "arr2d[1:,:2]"
   ]
  },
  {
   "cell_type": "code",
   "execution_count": 53,
   "metadata": {},
   "outputs": [
    {
     "data": {
      "text/plain": [
       "array([[[0.48544318, 0.67328527, 0.86600703],\n",
       "        [0.44283259, 0.98600632, 0.58849413],\n",
       "        [0.20048454, 0.47317623, 0.7616548 ]],\n",
       "\n",
       "       [[0.57531497, 0.27293683, 0.97100797],\n",
       "        [0.98356107, 0.78183447, 0.73500857],\n",
       "        [0.64377264, 0.61123671, 0.70130033]],\n",
       "\n",
       "       [[0.2839236 , 0.76271719, 0.14407741],\n",
       "        [0.34567677, 0.73021279, 0.02583279],\n",
       "        [0.68875116, 0.10417464, 0.02564985]]])"
      ]
     },
     "execution_count": 53,
     "metadata": {},
     "output_type": "execute_result"
    }
   ],
   "source": [
    "# 3-d array\n",
    "arr3d = np.random.rand(3,3,3).astype(float)\n",
    "arr3d"
   ]
  },
  {
   "cell_type": "code",
   "execution_count": 54,
   "metadata": {},
   "outputs": [
    {
     "name": "stdout",
     "output_type": "stream",
     "text": [
      "[[0.57531497 0.27293683 0.97100797]\n",
      " [0.98356107 0.78183447 0.73500857]\n",
      " [0.64377264 0.61123671 0.70130033]]\n",
      "[[0.57531497 0.27293683 0.97100797]\n",
      " [0.98356107 0.78183447 0.73500857]\n",
      " [0.64377264 0.61123671 0.70130033]]\n"
     ]
    }
   ],
   "source": [
    "# Index specific 2-d array\n",
    "print(arr3d[1])\n",
    "print(arr3d[1,:,:])"
   ]
  },
  {
   "cell_type": "code",
   "execution_count": 55,
   "metadata": {},
   "outputs": [
    {
     "data": {
      "text/plain": [
       "array([[0.44283259, 0.98600632, 0.58849413],\n",
       "       [0.98356107, 0.78183447, 0.73500857],\n",
       "       [0.34567677, 0.73021279, 0.02583279]])"
      ]
     },
     "execution_count": 55,
     "metadata": {},
     "output_type": "execute_result"
    }
   ],
   "source": [
    "# Slicing 3-d array\n",
    "arr3d[:,1,:]"
   ]
  },
  {
   "cell_type": "markdown",
   "metadata": {},
   "source": [
    "## Other Important Array Methods"
   ]
  },
  {
   "cell_type": "markdown",
   "metadata": {},
   "source": [
    "### Conditional Logic"
   ]
  },
  {
   "cell_type": "markdown",
   "metadata": {},
   "source": [
    "We saw that ternary expressions were a convenient way for us to generate conditional values:\n",
    "\n",
    "*expr1* if *cond* else *expr2*\n",
    "\n",
    "There are several ways to perform this task for a list (which we could then cast to an array):\n",
    "\n",
    "1. Use a **for** loop\n",
    "2. Use **map** with a lambda function\n",
    "3. Use a list comprehension\n",
    "\n",
    "For arrays, we use the np.**where** function!"
   ]
  },
  {
   "cell_type": "code",
   "execution_count": 56,
   "metadata": {},
   "outputs": [],
   "source": [
    "np.where?"
   ]
  },
  {
   "cell_type": "code",
   "execution_count": 57,
   "metadata": {},
   "outputs": [
    {
     "data": {
      "text/plain": [
       "array(['T', 'H', 'T', 'T', 'H', 'T', 'H', 'H', 'H', 'T'], dtype='<U1')"
      ]
     },
     "execution_count": 57,
     "metadata": {},
     "output_type": "execute_result"
    }
   ],
   "source": [
    "# Flip a coin N times\n",
    "N = 10\n",
    "np.where(np.random.rand(N) > 0.5, 'H', 'T')"
   ]
  },
  {
   "cell_type": "code",
   "execution_count": 58,
   "metadata": {},
   "outputs": [
    {
     "data": {
      "text/plain": [
       "array([0., 0., 2., 0., 0., 5., 6., 7., 8., 9.])"
      ]
     },
     "execution_count": 58,
     "metadata": {},
     "output_type": "execute_result"
    }
   ],
   "source": [
    "# Select a value at random\n",
    "N = 10\n",
    "a = np.arange(N)\n",
    "b = np.zeros(N)\n",
    "np.where(np.random.rand(N) > 0.5, a, b)"
   ]
  },
  {
   "cell_type": "code",
   "execution_count": 59,
   "metadata": {},
   "outputs": [
    {
     "data": {
      "text/plain": [
       "array([ 1.,  0., -1.,  0.,  0.,  0., -1.,  0.,  1.,  1.])"
      ]
     },
     "execution_count": 59,
     "metadata": {},
     "output_type": "execute_result"
    }
   ],
   "source": [
    "# Nested conditions\n",
    "N = 10\n",
    "a = np.ones(N)\n",
    "b = np.zeros(N)\n",
    "c = -np.ones(N)\n",
    "np.where(np.random.rand(N) > 2/3, a, np.where(np.random.rand(N) > 1/2, b, c))"
   ]
  },
  {
   "cell_type": "markdown",
   "metadata": {},
   "source": [
    "### Sorting"
   ]
  },
  {
   "cell_type": "code",
   "execution_count": 60,
   "metadata": {},
   "outputs": [
    {
     "data": {
      "text/plain": [
       "array([0.32899473, 0.0121254 , 0.12036217, 0.74502093, 0.91971865,\n",
       "       0.1379966 , 0.87945876, 0.60853879, 0.04874319, 0.24084232])"
      ]
     },
     "execution_count": 60,
     "metadata": {},
     "output_type": "execute_result"
    }
   ],
   "source": [
    "arr = np.random.rand(10)\n",
    "arr"
   ]
  },
  {
   "cell_type": "code",
   "execution_count": 61,
   "metadata": {},
   "outputs": [
    {
     "data": {
      "text/plain": [
       "array([0.0121254 , 0.04874319, 0.12036217, 0.1379966 , 0.24084232,\n",
       "       0.32899473, 0.60853879, 0.74502093, 0.87945876, 0.91971865])"
      ]
     },
     "execution_count": 61,
     "metadata": {},
     "output_type": "execute_result"
    }
   ],
   "source": [
    "# Return a copy of sorted array\n",
    "np.sort(arr)"
   ]
  },
  {
   "cell_type": "code",
   "execution_count": 62,
   "metadata": {},
   "outputs": [
    {
     "data": {
      "text/plain": [
       "array([1, 8, 2, 5, 9, 0, 7, 3, 6, 4])"
      ]
     },
     "execution_count": 62,
     "metadata": {},
     "output_type": "execute_result"
    }
   ],
   "source": [
    "# Return sorting indices\n",
    "arr.argsort()"
   ]
  },
  {
   "cell_type": "code",
   "execution_count": 76,
   "metadata": {},
   "outputs": [
    {
     "data": {
      "text/plain": [
       "array([0.01929118, 0.14174679, 0.16871017, 0.21343494, 0.37744676,\n",
       "       0.39079423, 0.41555057, 0.42053132, 0.77197292, 0.97699876])"
      ]
     },
     "execution_count": 76,
     "metadata": {},
     "output_type": "execute_result"
    }
   ],
   "source": [
    "# Sort in place\n",
    "arr.sort()\n",
    "arr"
   ]
  },
  {
   "cell_type": "markdown",
   "metadata": {},
   "source": [
    "### Set Logic"
   ]
  },
  {
   "cell_type": "code",
   "execution_count": 63,
   "metadata": {},
   "outputs": [
    {
     "name": "stdout",
     "output_type": "stream",
     "text": [
      "[0 1 2 3 4 5 6 7 8 9] [20 18 16 14 12 10  8  6  4  2]\n"
     ]
    }
   ],
   "source": [
    "arr1 = np.arange(10)\n",
    "arr2 = np.arange(20,0,-2)\n",
    "print(arr1, arr2)"
   ]
  },
  {
   "cell_type": "code",
   "execution_count": 64,
   "metadata": {},
   "outputs": [
    {
     "data": {
      "text/plain": [
       "False"
      ]
     },
     "execution_count": 64,
     "metadata": {},
     "output_type": "execute_result"
    }
   ],
   "source": [
    "# Membership\n",
    "7 in arr2"
   ]
  },
  {
   "cell_type": "code",
   "execution_count": 65,
   "metadata": {},
   "outputs": [
    {
     "name": "stdout",
     "output_type": "stream",
     "text": [
      "[ 0 18 32 42 48 50 48 42 32 18] [ 0 18 32 42 48 50]\n"
     ]
    }
   ],
   "source": [
    "# Unique elements\n",
    "print(arr1 * arr2, np.unique(arr1 * arr2))"
   ]
  },
  {
   "cell_type": "code",
   "execution_count": 69,
   "metadata": {},
   "outputs": [
    {
     "name": "stdout",
     "output_type": "stream",
     "text": [
      "[0 1 2 3 4 5 6 7 8 9] [20 18 16 14 12 10  8  6  4  2]\n",
      "[ 0  1  3  5  7  9 10 12 14 16 18 20]\n",
      "[ 0  1  2  3  4  5  6  7  8  9 10 12 14 16 18 20]\n"
     ]
    }
   ],
   "source": [
    "# Comparisons - np.intersect1d, .union1d, setdiff1d, setxor1d\n",
    "print(arr1,arr2)\n",
    "np.setxor1d(arr1, arr2)\n",
    "print(np.setxor1d(arr1,arr2))\n",
    "print(np.union1d(arr1,arr2))"
   ]
  },
  {
   "cell_type": "markdown",
   "metadata": {},
   "source": [
    "## Manipulating and Combining Arrays"
   ]
  },
  {
   "cell_type": "markdown",
   "metadata": {},
   "source": [
    "Sometimes, you will need to manipulate or combine multiple arrays of data prior to performing any analysis. There are a lot of built-in functions for these purposes. Very rarely will you need to develop your own code."
   ]
  },
  {
   "cell_type": "markdown",
   "metadata": {},
   "source": [
    "#### Manipulating Arrays"
   ]
  },
  {
   "cell_type": "code",
   "execution_count": 70,
   "metadata": {},
   "outputs": [
    {
     "data": {
      "text/plain": [
       "array([0, 1, 2, 3, 4, 5, 6, 7])"
      ]
     },
     "execution_count": 70,
     "metadata": {},
     "output_type": "execute_result"
    }
   ],
   "source": [
    "arr = np.arange(8)\n",
    "arr"
   ]
  },
  {
   "cell_type": "code",
   "execution_count": 71,
   "metadata": {},
   "outputs": [
    {
     "name": "stdout",
     "output_type": "stream",
     "text": [
      "[[0 1 2 3]\n",
      " [4 5 6 7]]\n",
      "[[0 1 2 3]\n",
      " [4 5 6 7]]\n"
     ]
    }
   ],
   "source": [
    "# Reshaping arrays\n",
    "print(arr.reshape((2,4)))\n",
    "print(arr.reshape((2,-1))) # automatically determines the other dimension size"
   ]
  },
  {
   "cell_type": "code",
   "execution_count": 72,
   "metadata": {},
   "outputs": [
    {
     "data": {
      "text/plain": [
       "array([[0, 4],\n",
       "       [1, 5],\n",
       "       [2, 6],\n",
       "       [3, 7]])"
      ]
     },
     "execution_count": 72,
     "metadata": {},
     "output_type": "execute_result"
    }
   ],
   "source": [
    "# Transpose\n",
    "arr.reshape((2,4)).T # Our first example of chaining methods together"
   ]
  },
  {
   "cell_type": "code",
   "execution_count": 73,
   "metadata": {},
   "outputs": [
    {
     "name": "stdout",
     "output_type": "stream",
     "text": [
      "[0 1 2 3 4 5 6 7]\n",
      "[0 4 1 5 2 6 3 7]\n"
     ]
    }
   ],
   "source": [
    "# Flatten\n",
    "print(arr.reshape((2,4)).flatten('C')) # row-major\n",
    "print(arr.reshape((2,4)).flatten('F')) # column-major"
   ]
  },
  {
   "cell_type": "markdown",
   "metadata": {},
   "source": [
    "#### Combining and Splitting Arrays"
   ]
  },
  {
   "cell_type": "code",
   "execution_count": 74,
   "metadata": {},
   "outputs": [
    {
     "name": "stdout",
     "output_type": "stream",
     "text": [
      "[[0.11752018 0.24441478]\n",
      " [0.17452596 0.70944447]\n",
      " [0.79377455 0.82717427]\n",
      " [0.52269379 0.25310571]]\n",
      "[[0.24045853 0.97812523]\n",
      " [0.55800245 0.0306442 ]\n",
      " [0.692898   0.19159116]\n",
      " [0.74843069 0.39882295]]\n"
     ]
    }
   ],
   "source": [
    "arr1 = np.random.rand(4,2)\n",
    "arr2 = np.random.rand(4,2)\n",
    "print(arr1)\n",
    "print(arr2)"
   ]
  },
  {
   "cell_type": "code",
   "execution_count": 75,
   "metadata": {},
   "outputs": [
    {
     "data": {
      "text/plain": [
       "array([[0.11752018, 0.24441478],\n",
       "       [0.17452596, 0.70944447],\n",
       "       [0.79377455, 0.82717427],\n",
       "       [0.52269379, 0.25310571],\n",
       "       [0.24045853, 0.97812523],\n",
       "       [0.55800245, 0.0306442 ],\n",
       "       [0.692898  , 0.19159116],\n",
       "       [0.74843069, 0.39882295]])"
      ]
     },
     "execution_count": 75,
     "metadata": {},
     "output_type": "execute_result"
    }
   ],
   "source": [
    "# Concatenation by row\n",
    "np.concatenate([arr1, arr2], axis=0)"
   ]
  },
  {
   "cell_type": "code",
   "execution_count": 76,
   "metadata": {},
   "outputs": [
    {
     "data": {
      "text/plain": [
       "array([[0.11752018, 0.24441478],\n",
       "       [0.17452596, 0.70944447],\n",
       "       [0.79377455, 0.82717427],\n",
       "       [0.52269379, 0.25310571],\n",
       "       [0.24045853, 0.97812523],\n",
       "       [0.55800245, 0.0306442 ],\n",
       "       [0.692898  , 0.19159116],\n",
       "       [0.74843069, 0.39882295]])"
      ]
     },
     "execution_count": 76,
     "metadata": {},
     "output_type": "execute_result"
    }
   ],
   "source": [
    "# Stacking rows\n",
    "np.vstack([arr1, arr2]) # also, np.row_stack"
   ]
  },
  {
   "cell_type": "code",
   "execution_count": 77,
   "metadata": {},
   "outputs": [
    {
     "data": {
      "text/plain": [
       "array([[0.11752018, 0.24441478, 0.24045853, 0.97812523],\n",
       "       [0.17452596, 0.70944447, 0.55800245, 0.0306442 ],\n",
       "       [0.79377455, 0.82717427, 0.692898  , 0.19159116],\n",
       "       [0.52269379, 0.25310571, 0.74843069, 0.39882295]])"
      ]
     },
     "execution_count": 77,
     "metadata": {},
     "output_type": "execute_result"
    }
   ],
   "source": [
    "# Concatenate by column\n",
    "np.concatenate([arr1, arr2], axis=1)"
   ]
  },
  {
   "cell_type": "code",
   "execution_count": 78,
   "metadata": {},
   "outputs": [
    {
     "data": {
      "text/plain": [
       "array([[0.11752018, 0.24441478, 0.24045853, 0.97812523],\n",
       "       [0.17452596, 0.70944447, 0.55800245, 0.0306442 ],\n",
       "       [0.79377455, 0.82717427, 0.692898  , 0.19159116],\n",
       "       [0.52269379, 0.25310571, 0.74843069, 0.39882295]])"
      ]
     },
     "execution_count": 78,
     "metadata": {},
     "output_type": "execute_result"
    }
   ],
   "source": [
    "# Stacking columns\n",
    "np.hstack([arr1, arr2]) # also, np.column_stack"
   ]
  },
  {
   "cell_type": "code",
   "execution_count": 79,
   "metadata": {},
   "outputs": [
    {
     "data": {
      "text/plain": [
       "[array([[0.11752018, 0.24441478]]),\n",
       " array([[0.17452596, 0.70944447]]),\n",
       " array([[0.79377455, 0.82717427],\n",
       "        [0.52269379, 0.25310571]])]"
      ]
     },
     "execution_count": 79,
     "metadata": {},
     "output_type": "execute_result"
    }
   ],
   "source": [
    "# Splitting arrays\n",
    "np.split(arr1, [1,2], axis=0) # also, np.hsplit, vsplit"
   ]
  },
  {
   "cell_type": "markdown",
   "metadata": {},
   "source": [
    "## File Input/Output"
   ]
  },
  {
   "cell_type": "markdown",
   "metadata": {},
   "source": [
    "There are two primary ways to save/load NumPy arrays to/from a file:\n",
    "\n",
    "* Binary format (.npy) - np.**save** and np.**load**\n",
    "* Delimited text file (.txt) - np.**savetxt** and np.**loadtxt** (also, np.**genfromtext** for files with missing data)"
   ]
  },
  {
   "cell_type": "code",
   "execution_count": 80,
   "metadata": {},
   "outputs": [
    {
     "data": {
      "text/plain": [
       "'/Users/kzhang/Teaching/budt758x_f19/lecture_notes'"
      ]
     },
     "execution_count": 80,
     "metadata": {},
     "output_type": "execute_result"
    }
   ],
   "source": [
    "# Print working directory\n",
    "%pwd"
   ]
  },
  {
   "cell_type": "code",
   "execution_count": 82,
   "metadata": {},
   "outputs": [
    {
     "name": "stdout",
     "output_type": "stream",
     "text": [
      "/Users/kzhang/Desktop\n"
     ]
    }
   ],
   "source": [
    "# Change working directory to data folder\n",
    "%cd ~/Desktop"
   ]
  },
  {
   "cell_type": "code",
   "execution_count": 84,
   "metadata": {},
   "outputs": [],
   "source": [
    "# Save arr2d to binary file\n",
    "np.save('arr2d', arr2d) # function will add the .npy extension"
   ]
  },
  {
   "cell_type": "code",
   "execution_count": 85,
   "metadata": {},
   "outputs": [
    {
     "data": {
      "text/plain": [
       "array([[0.41445673, 0.00083282, 0.05439661],\n",
       "       [0.39634514, 0.15116368, 0.38656848],\n",
       "       [0.8295717 , 0.24823093, 0.03684579]])"
      ]
     },
     "execution_count": 85,
     "metadata": {},
     "output_type": "execute_result"
    }
   ],
   "source": [
    "# Delete arr2d and re-load from file\n",
    "del arr2d\n",
    "arr2d = np.load('arr2d.npy') # must include .npy extension\n",
    "arr2d"
   ]
  },
  {
   "cell_type": "code",
   "execution_count": 87,
   "metadata": {},
   "outputs": [],
   "source": [
    "# Save arr2d to text file\n",
    "np.savetxt('arr2d.txt', arr2d, fmt='%.4f', delimiter=',')"
   ]
  },
  {
   "cell_type": "code",
   "execution_count": 88,
   "metadata": {},
   "outputs": [
    {
     "data": {
      "text/plain": [
       "array([[4.145e-01, 8.000e-04, 5.440e-02],\n",
       "       [3.963e-01, 1.512e-01, 3.866e-01],\n",
       "       [8.296e-01, 2.482e-01, 3.680e-02]])"
      ]
     },
     "execution_count": 88,
     "metadata": {},
     "output_type": "execute_result"
    }
   ],
   "source": [
    "# Delete arr2d and re-load from file\n",
    "del arr2d\n",
    "arr2d = np.loadtxt('arr2d.txt', delimiter=',')\n",
    "arr2d"
   ]
  }
 ],
 "metadata": {
  "kernelspec": {
   "display_name": "Python 3",
   "language": "python",
   "name": "python3"
  },
  "language_info": {
   "codemirror_mode": {
    "name": "ipython",
    "version": 3
   },
   "file_extension": ".py",
   "mimetype": "text/x-python",
   "name": "python",
   "nbconvert_exporter": "python",
   "pygments_lexer": "ipython3",
   "version": "3.7.4"
  }
 },
 "nbformat": 4,
 "nbformat_minor": 2
}
