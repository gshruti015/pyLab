{
 "cells": [
  {
   "cell_type": "markdown",
   "metadata": {},
   "source": [
    "Large Movie Review Dataset\n",
    "\n",
    "This dataset contains movie reviews along with their associated binary sentiment polarity labels. It is intended to serve as a benchmark for sentiment classification. This document outlines how the dataset was gathered, and how to use the files provided.\n",
    "\n",
    "There are two directories [pos/, neg/] for the reviews with binary labels positive and negative. Within these directories, reviews are stored in text files named following the convention [[id]_[rating].txt] where [id] is a unique id and [rating] is the star rating for that review on a 1-10 scale. For example, the file [pos/200_8.txt] is the text for a positive-labeled example with unique id 200 and star rating 8/10 from IMDb. \n",
    "\n",
    "References\n",
    "Potts, Christopher. 2011. On the negativity of negation. In Nan Li and David Lutz, eds., Proceedings of Semantics and Linguistic Theory 20, 636-659.\n",
    "\n",
    "\n",
    "\n",
    "You need to build a machine-learning model (binary classifier) to predict sentiment for a given unlabeled text. This task includes the following major components:\n",
    "\n",
    "1. Preprocess the data: remove stopwords, non-word characters, all lowercase, etc.\n",
    "\n",
    "\n",
    "2. Convert text into feature representations and build the training / testing set: uni-gram, bi-gram, or tri-gram? Count or TFIDF? Some other features (be creative)?\n",
    "\n",
    "\n",
    "3. Select a good model and test the performance: which model? How to evaluate?\n",
    "\n",
    "\n",
    "4. Predict sentiment for a new (unlabeled) document / sentence: make prediction"
   ]
  },
  {
   "cell_type": "markdown",
   "metadata": {},
   "source": [
    "### Feature Engineering \n",
    "```\n",
    " - unigram, bigrams, etc \n",
    " - emojis in the text \n",
    " - tf-idf\n",
    " - random forest\n",
    " - xgboost\n",
    " - length of words\n",
    "```"
   ]
  },
  {
   "cell_type": "code",
   "execution_count": 4,
   "metadata": {
    "scrolled": true
   },
   "outputs": [],
   "source": [
    "import re\n",
    "import nltk\n",
    "import os, sys\n",
    "import numpy as np\n",
    "import pandas as pd\n",
    "\n",
    "from nltk import pos_tag\n",
    "from nltk.stem.porter import *\n",
    "from nltk.corpus import stopwords \n",
    "from nltk.tokenize import word_tokenize, sent_tokenize\n",
    "\n",
    "from sklearn.model_selection import train_test_split\n",
    "from sklearn import metrics\n",
    "from sklearn.metrics import confusion_matrix\n",
    "from sklearn.model_selection import cross_val_score\n",
    "\n",
    "from sklearn.linear_model import LogisticRegression\n",
    "from sklearn.naive_bayes import GaussianNB\n",
    "from sklearn.ensemble import GradientBoostingClassifier\n",
    "from sklearn.ensemble import RandomForestClassifier"
   ]
  },
  {
   "cell_type": "markdown",
   "metadata": {},
   "source": [
    "## Preprocess the data: remove stopwords, non-word characters, all lowercase, etc."
   ]
  },
  {
   "cell_type": "code",
   "execution_count": 5,
   "metadata": {},
   "outputs": [],
   "source": [
    "#stopwords list, porterstemmer for stemming\n",
    "swlist = stopwords.words('english')\n",
    "stemmer = PorterStemmer()\n",
    "\n",
    "#all positive files and all negatives files are read using os.listdir into these two lists\n",
    "pos_files = os.listdir('/Users/shrutigupta/Downloads/pos') #12500\n",
    "neg_files = os.listdir('/Users/shrutigupta/Downloads/neg') #12500\n",
    "\n",
    "appos = {\"aren't\":\"are not\", \"can't\" : \"cannot\", \"couldn't\": \"could not\", \"didn't\" : \"did not\", \"doesn't\": \"does not\", \"don't\": \"do not\"}"
   ]
  },
  {
   "cell_type": "code",
   "execution_count": 6,
   "metadata": {},
   "outputs": [],
   "source": [
    "pos_corpus = []\n",
    "for f in pos_files:\n",
    "    \n",
    "#     first reading in the data from each file into content \n",
    "    fname = '/Users/shrutigupta/Downloads/pos/' +f\n",
    "    fh = open(fname, 'r')\n",
    "    content = fh.read()\n",
    "    \n",
    "#     lowercasing the content and removing all non - alphanumeric characters\n",
    "    processed_content = re.sub(r'[^a-zA-Z]', ' ',content.lower())\n",
    "    \n",
    "#     tokenized - changed the whole setence into a list of comma sepeprated words -> tokens\n",
    "    words = word_tokenize(processed_content)  \n",
    "    \n",
    "#     identified the pos of each token \n",
    "    pos_words = pos_tag(words)\n",
    "    \n",
    "#     removing unwanted words |\n",
    "#      - if word is in stopword\n",
    "#      - if length of word is less than 3 its less important \n",
    "#      - if the pos of the word is not an an adjective, skip it\n",
    "#      - append the stemmed word in that case\n",
    "    clean_words = []\n",
    "    for w in pos_words: \n",
    "        if w[0] in swlist or len(w[0]) <=3 or w[1] not in ('JJ', 'JJR', 'JJS'):\n",
    "            continue\n",
    "        else:\n",
    "            clean_words.append(stemmer.stem(w[0]))\n",
    "            \n",
    "# joining list of stemmed words into a string and then forming a list of all strings obtsained from all docs -corpus    \n",
    "    pos_content = ' '.join(clean_words)\n",
    "    pos_corpus.append(pos_content)\n",
    "    \n",
    "# print(pos_corpus)"
   ]
  },
  {
   "cell_type": "code",
   "execution_count": 7,
   "metadata": {},
   "outputs": [],
   "source": [
    "neg_corpus = []\n",
    "for f in neg_files:\n",
    "    \n",
    "    fname = '/Users/shrutigupta/Downloads/neg/' +f\n",
    "    fh = open(fname, 'r')\n",
    "    content = fh.read()\n",
    "    \n",
    "    processed_content = re.sub(r'[^a-zA-Z]', ' ',content.lower())\n",
    "    words = word_tokenize(processed_content)\n",
    "    neg_words = pos_tag(words)\n",
    "    \n",
    "    clean_words = []\n",
    "    for w in neg_words: \n",
    "        if w[0] in swlist or len(w[0]) <=3 or w[1] not in ('JJ', 'JJR', 'JJS'):\n",
    "            continue\n",
    "        clean_words.append(stemmer.stem(w[0]))\n",
    "        \n",
    "    neg_content = ' '.join(clean_words)\n",
    "    neg_corpus.append(neg_content)\n",
    "    \n",
    "# print(neg_corpus)"
   ]
  },
  {
   "cell_type": "code",
   "execution_count": 8,
   "metadata": {},
   "outputs": [
    {
     "name": "stdout",
     "output_type": "stream",
     "text": [
      "12500\n",
      "12500\n",
      "25000\n",
      "25000\n"
     ]
    }
   ],
   "source": [
    "print(len(pos_corpus))\n",
    "print(len(neg_corpus))\n",
    "\n",
    "#combine the two corpus:\n",
    "corpus = pos_corpus + neg_corpus\n",
    "print(len(corpus))\n",
    "\n",
    "#making the target/decision variable y \n",
    "y = pd.Series(np.array([1]*len(pos_corpus)+ [0]*len(neg_corpus)))\n",
    "print(len(y))"
   ]
  },
  {
   "cell_type": "markdown",
   "metadata": {},
   "source": [
    "## Convert text into feature representations and build the training / testing set: uni-gram, bi-gram, or tri-gram? Count or TFIDF? Some other features (be creative)?\n",
    "\n",
    "## Select a good model and test the performance: which model? How to evaluate?"
   ]
  },
  {
   "cell_type": "markdown",
   "metadata": {},
   "source": [
    "### Feature Set 1 - tfidf Vectorizer"
   ]
  },
  {
   "cell_type": "code",
   "execution_count": 11,
   "metadata": {},
   "outputs": [],
   "source": [
    "from sklearn.feature_extraction.text import TfidfVectorizer\n",
    "\n",
    "vectorizer = TfidfVectorizer(ngram_range = (1,1))\n",
    "X1 = vectorizer.fit_transform(corpus)\n",
    "# print(X1.shape) #(25000, 19684)"
   ]
  },
  {
   "cell_type": "code",
   "execution_count": 13,
   "metadata": {},
   "outputs": [
    {
     "name": "stderr",
     "output_type": "stream",
     "text": [
      "/usr/local/lib/python3.7/site-packages/sklearn/linear_model/logistic.py:432: FutureWarning: Default solver will be changed to 'lbfgs' in 0.22. Specify a solver to silence this warning.\n",
      "  FutureWarning)\n",
      "/usr/local/lib/python3.7/site-packages/sklearn/linear_model/logistic.py:432: FutureWarning: Default solver will be changed to 'lbfgs' in 0.22. Specify a solver to silence this warning.\n",
      "  FutureWarning)\n"
     ]
    },
    {
     "name": "stdout",
     "output_type": "stream",
     "text": [
      "holdout score:  0.824\n",
      "10 run scores: [0.8316 0.8316 0.8204 0.8216 0.8368 0.8348 0.824  0.826  0.8284 0.8228] , 0.8278000000000001 , 0.005432494822823122\n"
     ]
    }
   ],
   "source": [
    "## implementing LR model and evaluation of performaance\n",
    "\n",
    "X1_train, X1_test, y1_train, y1_test = train_test_split(X1, y, test_size = 0.33, random_state = 5)\n",
    "\n",
    "lr_model = LogisticRegression(random_state = 10)\n",
    "lr_model.fit(X1_train, y1_train)\n",
    "\n",
    "score = lr_model.score(X1_test, y1_test)\n",
    "print(\"holdout score: \",score)\n",
    "\n",
    "# cross validation \n",
    "scores = cross_val_score(lr_model, X1, y, cv = 10)\n",
    "print(\"10 run scores:\", scores, ',', np.mean(scores), ',', np.std(scores))"
   ]
  },
  {
   "cell_type": "code",
   "execution_count": 14,
   "metadata": {
    "scrolled": true
   },
   "outputs": [
    {
     "name": "stderr",
     "output_type": "stream",
     "text": [
      "/usr/local/lib/python3.7/site-packages/sklearn/linear_model/logistic.py:432: FutureWarning: Default solver will be changed to 'lbfgs' in 0.22. Specify a solver to silence this warning.\n",
      "  FutureWarning)\n"
     ]
    },
    {
     "name": "stdout",
     "output_type": "stream",
     "text": [
      "Best cross-validation score: 0.82\n",
      "Best parameters:  {'C': 1}\n",
      "Best estimator:  LogisticRegression(C=1, class_weight=None, dual=False, fit_intercept=True,\n",
      "                   intercept_scaling=1, l1_ratio=None, max_iter=100,\n",
      "                   multi_class='warn', n_jobs=None, penalty='l2',\n",
      "                   random_state=None, solver='warn', tol=0.0001, verbose=0,\n",
      "                   warm_start=False)\n"
     ]
    }
   ],
   "source": [
    "#logistic model prediction through grdiSearch Librar\n",
    "\n",
    "from sklearn.model_selection import GridSearchCV\n",
    "from sklearn.linear_model import LogisticRegression\n",
    "\n",
    "param_grid = {'C': [0.001, 0.01, 0.1, 1, 10]}\n",
    "grid = GridSearchCV(LogisticRegression(), param_grid, cv=5)\n",
    "grid.fit(X1_train, y1_train)\n",
    "\n",
    "print(\"Best cross-validation score: {:.2f}\".format(grid.best_score_))\n",
    "print(\"Best parameters: \", grid.best_params_)\n",
    "print(\"Best estimator: \", grid.best_estimator_)"
   ]
  },
  {
   "cell_type": "code",
   "execution_count": 18,
   "metadata": {},
   "outputs": [
    {
     "data": {
      "image/png": "[encoded data removed]",
      "text/plain": [
       "<Figure size 1080x360 with 1 Axes>"
      ]
     },
     "metadata": {
      "needs_background": "light"
     },
     "output_type": "display_data"
    }
   ],
   "source": [
    "#implementing a graph to observe the insights on negative and positive wordds\n",
    "\n",
    "import matplotlib.pyplot as plt\n",
    "import mglearn\n",
    "feature_names = vectorizer.get_feature_names()\n",
    "mglearn.tools.visualize_coefficients(grid.best_estimator_.coef_, feature_names, n_top_features=30)\n",
    "plt.show()"
   ]
  },
  {
   "cell_type": "code",
   "execution_count": 19,
   "metadata": {},
   "outputs": [
    {
     "name": "stdout",
     "output_type": "stream",
     "text": [
      "Score: 0.82\n"
     ]
    },
    {
     "name": "stderr",
     "output_type": "stream",
     "text": [
      "/usr/local/lib/python3.7/site-packages/sklearn/linear_model/logistic.py:432: FutureWarning: Default solver will be changed to 'lbfgs' in 0.22. Specify a solver to silence this warning.\n",
      "  FutureWarning)\n"
     ]
    }
   ],
   "source": [
    "lr = grid.best_estimator_\n",
    "lr.fit(X1_train, y1_train)\n",
    "lr.predict(X1_test)\n",
    "print(\"Score: {:.2f}\".format(lr.score(X1_test, y1_test)))"
   ]
  },
  {
   "cell_type": "code",
   "execution_count": 30,
   "metadata": {},
   "outputs": [
    {
     "name": "stdout",
     "output_type": "stream",
     "text": [
      "Neg prediction: [0]\n"
     ]
    }
   ],
   "source": [
    "neg = [\"The movie was a boring one, we did not like it, hated it mostly\"]\n",
    "print(\"Neg prediction: {}\". format(lr.predict(vectorizer.transform(neg))))"
   ]
  },
  {
   "cell_type": "code",
   "execution_count": 190,
   "metadata": {},
   "outputs": [
    {
     "name": "stdout",
     "output_type": "stream",
     "text": [
      "holdout score:  0.5864242424242424\n",
      "10 run scores: [0.5988 0.6008 0.5832 0.5888 0.5972 0.6112 0.566  0.5772 0.6056 0.592 ] , 0.5920799999999999 , 0.012988364023232484\n"
     ]
    }
   ],
   "source": [
    "## implementing Naive Bayes and evaulation of performance\n",
    "\n",
    "gnb = GaussianNB()\n",
    "gnb.fit(X1_train.todense(), y1_train)\n",
    "\n",
    "score = gnb.score(X1_test.todense(), y1_test)\n",
    "print(\"holdout score: \",score)\n",
    "\n",
    "# cross validation\n",
    "scores = cross_val_score(gnb, X1.todense(), y, cv = 10)\n",
    "print('10 run scores:', scores, ',',np.mean(scores), ',', np.std(scores))"
   ]
  },
  {
   "cell_type": "code",
   "execution_count": null,
   "metadata": {},
   "outputs": [],
   "source": [
    "## implementing Gradient Boosting and evaulation of performance\n",
    "\n",
    "gbc = GradientBoostingClassifier()\n",
    "gbc.fit(X1_train.todense(), y1_train)\n",
    "\n",
    "score = gbc.score(X1_test.todense(), y1_test)\n",
    "print(\"holdout score: \",score)\n",
    "\n",
    "# cross validation\n",
    "scores = cross_val_score(gbc, X1.todense(), y, cv = 10)\n",
    "print('10 run scores:', scores, ',',np.mean(scores), ',', np.std(scores))"
   ]
  },
  {
   "cell_type": "code",
   "execution_count": null,
   "metadata": {},
   "outputs": [],
   "source": [
    "## implementing Random Forest and evaulation of performance\n",
    "\n",
    "rf = RandomForestClassifier(n_jobs = -1)\n",
    "rf.fit(X1_train, y1_train)\n",
    "\n",
    "score = rf.score(X1_test.todense(), y1_test)\n",
    "print(\"holdout score: \",score)\n",
    "\n",
    "# cross validation\n",
    "scores = cross_val_score(rf, X1.todense(), y, cv = 10)\n",
    "print('10 run scores:', scores, ',',np.mean(scores), ',', np.std(scores))"
   ]
  },
  {
   "cell_type": "markdown",
   "metadata": {},
   "source": [
    "### Feature Set 2 - bagOfWords Vectorizer \n",
    "\n",
    "### accuracy is lesser"
   ]
  },
  {
   "cell_type": "code",
   "execution_count": 177,
   "metadata": {},
   "outputs": [],
   "source": [
    "from sklearn.feature_extraction.text import CountVectorizer\n",
    "\n",
    "bow_vectorizer = CountVectorizer(max_df=0.90, min_df=2, max_features=19684)\n",
    "X2 = bow_vectorizer.fit_transform(corpus)\n",
    "# print(X2.shape) #(25000, 1000)"
   ]
  },
  {
   "cell_type": "code",
   "execution_count": 178,
   "metadata": {},
   "outputs": [
    {
     "name": "stderr",
     "output_type": "stream",
     "text": [
      "/usr/local/lib/python3.7/site-packages/sklearn/linear_model/logistic.py:432: FutureWarning: Default solver will be changed to 'lbfgs' in 0.22. Specify a solver to silence this warning.\n",
      "  FutureWarning)\n"
     ]
    },
    {
     "name": "stdout",
     "output_type": "stream",
     "text": [
      "holdout score:  0.8155151515151515\n"
     ]
    },
    {
     "name": "stderr",
     "output_type": "stream",
     "text": [
      "/usr/local/lib/python3.7/site-packages/sklearn/linear_model/logistic.py:432: FutureWarning: Default solver will be changed to 'lbfgs' in 0.22. Specify a solver to silence this warning.\n",
      "  FutureWarning)\n"
     ]
    },
    {
     "name": "stdout",
     "output_type": "stream",
     "text": [
      "10 run scores: [0.8264 0.8152 0.814  0.8136 0.8312 0.8196 0.82   0.8108 0.8132 0.8248] , 0.81888 , 0.006386986769987877\n"
     ]
    }
   ],
   "source": [
    "## implementing LR model and evaluation of performaance\n",
    "\n",
    "X2_train, X2_test, y2_train, y2_test = train_test_split(X2, y, test_size = 0.33, random_state = 5)\n",
    "\n",
    "lr_model = LogisticRegression(random_state = 10)\n",
    "lr_model.fit(X2_train, y2_train)\n",
    "\n",
    "score = lr_model.score(X2_test, y2_test)\n",
    "print(\"holdout score: \",score)\n",
    "\n",
    "# cross validation \n",
    "scores = cross_val_score(lr_model, X2, y, cv = 10)\n",
    "print(\"10 run scores:\", scores, ',', np.mean(scores), ',', np.std(scores))"
   ]
  }
 ],
 "metadata": {
  "kernelspec": {
   "display_name": "Python 3",
   "language": "python",
   "name": "python3"
  },
  "language_info": {
   "codemirror_mode": {
    "name": "ipython",
    "version": 3
   },
   "file_extension": ".py",
   "mimetype": "text/x-python",
   "name": "python",
   "nbconvert_exporter": "python",
   "pygments_lexer": "ipython3",
   "version": "3.7.4"
  }
 },
 "nbformat": 4,
 "nbformat_minor": 2
}
