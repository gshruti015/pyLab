{
 "cells": [
  {
   "cell_type": "code",
   "execution_count": 26,
   "metadata": {},
   "outputs": [
    {
     "name": "stdout",
     "output_type": "stream",
     "text": [
      "the world is beautiful!\n",
      "{'t': 2, 'h': 1, 'e': 2, 'w': 1, 'o': 1, 'r': 1, 'l': 2, 'd': 1, 'i': 2, 's': 1, 'b': 1, 'a': 1, 'u': 2, 'f': 1, '!': 1}\n"
     ]
    }
   ],
   "source": [
    "sentence = input()\n",
    "counts = dict()\n",
    "sentence=list(sentence.replace(\" \", \"\"))\n",
    "for letter in sentence:\n",
    "    counts[letter] = counts.get(letter,0)+1\n",
    "print(counts)"
   ]
  },
  {
   "cell_type": "code",
   "execution_count": 131,
   "metadata": {},
   "outputs": [
    {
     "name": "stdout",
     "output_type": "stream",
     "text": [
      "1: sort by key, 2: sort by value  2\n",
      "{7: ['x'], 2: ['y', 'm'], 3: ['a']}\n"
     ]
    }
   ],
   "source": [
    "choice = input(\"1: sort by key, 2: sort by value  \")\n",
    "choice = int(choice)\n",
    "newd = dict()\n",
    "d={'x': 7, 'y': 2, 'a': 3, 'm': 2} \n",
    "d_keys = list(d.keys())\n",
    "d_values = list(d.values())\n",
    "\n",
    "if choice == 1:\n",
    "    d_keys.sort()\n",
    "    for k in d_keys:\n",
    "        print(k, d[k])\n",
    "else:\n",
    "    d_values.sort()\n",
    "    x = {}\n",
    "    for k, v in d.items():\n",
    "        if v in x:\n",
    "            x[v] += [k]\n",
    "        else:\n",
    "            x[v] = [k]\n",
    "    print(x)"
   ]
  },
  {
   "cell_type": "code",
   "execution_count": null,
   "metadata": {},
   "outputs": [],
   "source": []
  }
 ],
 "metadata": {
  "kernelspec": {
   "display_name": "Python 3",
   "language": "python",
   "name": "python3"
  },
  "language_info": {
   "codemirror_mode": {
    "name": "ipython",
    "version": 3
   },
   "file_extension": ".py",
   "mimetype": "text/x-python",
   "name": "python",
   "nbconvert_exporter": "python",
   "pygments_lexer": "ipython3",
   "version": "3.7.4"
  }
 },
 "nbformat": 4,
 "nbformat_minor": 2
}
