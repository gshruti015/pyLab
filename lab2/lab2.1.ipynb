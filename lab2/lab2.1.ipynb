{
 "cells": [
  {
   "cell_type": "markdown",
   "metadata": {},
   "source": [
    "1. Write a program that accepts a sentence from the keyboard, calculate and print out each unique character and its corresponding number of occurrence. Don’t count spaces. For example, if the input sentence is: the world is beautiful! , then the output should be the following:\n",
    "Hint:\n",
    "1) use index to get a character in a string\n",
    "2) use dictionary to store characters and their corresponding values (# of appearance) a, 1\n",
    "```\n",
    "!, 1\n",
    "b, 1\n",
    "e, 2\n",
    "d, 1\n",
    "f ,1\n",
    "i, 2\n",
    "h, 1\n",
    "l, 2\n",
    "o, 1\n",
    "s ,1\n",
    "r ,1\n",
    "u, 2\n",
    "t, 2\n",
    "w ,1\n",
    "```"
   ]
  },
  {
   "cell_type": "code",
   "execution_count": 1,
   "metadata": {},
   "outputs": [
    {
     "name": "stdout",
     "output_type": "stream",
     "text": [
      "beautiful!\n",
      "{'b': 1, 'e': 1, 'a': 1, 'u': 2, 't': 1, 'i': 1, 'f': 1, 'l': 1, '!': 1}\n"
     ]
    }
   ],
   "source": [
    "sentence = input()\n",
    "counts = dict()\n",
    "sentence=list(sentence.replace(\" \", \"\"))\n",
    "for letter in sentence:\n",
    "    counts[letter] = counts.get(letter,0)+1\n",
    "print(counts)"
   ]
  },
  {
   "cell_type": "markdown",
   "metadata": {},
   "source": [
    "2. Write a program that can sort a given dictionary either by key or value. The program allows users to choose operations (1: sort by key, 2: sort by value). If the given dictionary is: d={'x': 7, 'y': 2, 'a': 3, 'm': 2}, the running output is following.\n",
    "```\n",
    "please select operation: (1: sort by key, 2: sort by value) 1 \n",
    "a, 3\n",
    "m, 2\n",
    "x, 7\n",
    "y ,2\n",
    "please select operation: (1: sort by key, 2: sort by value) 2 \n",
    "y ,2\n",
    "m, 2\n",
    "a, 3\n",
    "x, 7\n",
    "```"
   ]
  },
  {
   "cell_type": "code",
   "execution_count": 2,
   "metadata": {},
   "outputs": [
    {
     "name": "stdout",
     "output_type": "stream",
     "text": [
      "1: sort by key, 2: sort by value  2\n",
      "{7: ['x'], 2: ['y', 'm'], 3: ['a']}\n"
     ]
    }
   ],
   "source": [
    "choice = input(\"1: sort by key, 2: sort by value  \")\n",
    "choice = int(choice)\n",
    "newd = dict()\n",
    "d={'x': 7, 'y': 2, 'a': 3, 'm': 2} \n",
    "d_keys = list(d.keys())\n",
    "d_values = list(d.values())\n",
    "# ser.index\n",
    "# ser.values\n",
    "# df.index\n",
    "# df.columns\n",
    "# df.values\n",
    "\n",
    "if choice == 1:\n",
    "    d_keys.sort()\n",
    "    for k in d_keys:\n",
    "        print(k, d[k])\n",
    "else:\n",
    "    d_values.sort()\n",
    "    x = {}\n",
    "    for k, v in d.items():\n",
    "        if v in x:\n",
    "            x[v] += [k] #adding [k] means adding as a list , x[v] is adding as a key \n",
    "        else:\n",
    "            x[v] = [k]\n",
    "    print(x)"
   ]
  },
  {
   "cell_type": "code",
   "execution_count": null,
   "metadata": {},
   "outputs": [],
   "source": []
  },
  {
   "cell_type": "code",
   "execution_count": null,
   "metadata": {},
   "outputs": [],
   "source": []
  }
 ],
 "metadata": {
  "kernelspec": {
   "display_name": "Python 3",
   "language": "python",
   "name": "python3"
  },
  "language_info": {
   "codemirror_mode": {
    "name": "ipython",
    "version": 3
   },
   "file_extension": ".py",
   "mimetype": "text/x-python",
   "name": "python",
   "nbconvert_exporter": "python",
   "pygments_lexer": "ipython3",
   "version": "3.7.4"
  }
 },
 "nbformat": 4,
 "nbformat_minor": 2
}
