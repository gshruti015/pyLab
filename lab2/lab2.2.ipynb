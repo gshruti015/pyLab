{
 "cells": [
  {
   "cell_type": "markdown",
   "metadata": {},
   "source": [
    "Design an interactive product management system using Python fuctions.\n",
    "```\n",
    "1) display system functions\n",
    "function name: show_functions Parameters:\n",
    "None Return:\n",
    "The user choice Description:\n",
    "This function prints out all possible functionalities of the system to let users choose. The output should look like the following:\n",
    "*********************************************\n",
    "* 1. Generate overall stats for all products (total #, avg #, min, and max) * 2. Calculate the amount for a given product\n",
    "* 3. Update the amount for a given product *********************************************\n",
    "2) Generate overall stats for all products\n",
    "function name: gen_stats Parameters:\n",
    "None Return:\n",
    "None Description:\n",
    "Generate all basic stats of all products, such as the total amount for all products, the average, the maximum and the minimum.\n",
    "3) calculate the amount of a given product\n",
    "function name: check_stock() Parameters:\n",
    "Product name Return:\n",
    "The number in stock for that product Description\n",
    "Retrieve the corresponding number in stock for a given product. The given product is obtained from the user (raw_input).\n",
    "4) update the amount for a give product\n",
    "function name: update_stock() Parameters:\n",
    "The stock dictionary, a given product, the number (positive means increase, negative means decrease)\n",
    "Return:\n",
    "None\n",
    "Description:\n",
    "Update the number in stock for a given product. The stock dictionary also needs to be\n",
    "updated.\n",
    "Note: 1. the system is always running until the user stops it. (You can use infinite loop with break statement somewhere in the loop)\n",
    "    \n",
    "2. You can design a main function which will be the starting point when you execute the entire program. Please use the following codes. Main function is also a function like others.\n",
    "def main():\n",
    "place your codes here\n",
    "if __name__ == ‘__main__’: main()\n",
    "```"
   ]
  },
  {
   "cell_type": "code",
   "execution_count": null,
   "metadata": {},
   "outputs": [],
   "source": [
    "def show_functions():\n",
    "    delimiter = '*********************************************\\n'\n",
    "    opt1 = '* 1.Generate overall stats for all products (total #, avg #, min, and max)\\n'\n",
    "    opt2 = '* 2. Calculate the amount for a given product\\n'\n",
    "    opt3 = '* 3. Update the amount for a given product\\n'\n",
    "    print(delimiter+opt1+opt2+opt3+delimiter)\n",
    "    choice = input(\"Enter the operation choice you want to perform \")\n",
    "    return choice"
   ]
  },
  {
   "cell_type": "code",
   "execution_count": null,
   "metadata": {
    "scrolled": true
   },
   "outputs": [],
   "source": [
    "def gen_stats(product_stock):\n",
    "    list_total = [product_stock[i] for i in product_stock]\n",
    "    length = sum(list_total)/len(product_stock)\n",
    "    maxp = max(list_total)\n",
    "    minp = min(list_total)\n",
    "    return sum(list_total), length, maxp, minp"
   ]
  },
  {
   "cell_type": "code",
   "execution_count": null,
   "metadata": {},
   "outputs": [],
   "source": [
    "def check_stock(product_stock):\n",
    "    pname = input(\"Enter product name \")\n",
    "    val = product_stock.get(pname)\n",
    "    return val"
   ]
  },
  {
   "cell_type": "code",
   "execution_count": null,
   "metadata": {},
   "outputs": [],
   "source": [
    "def update_stock(product_stock):\n",
    "    pname = input(\"Enter product name\")\n",
    "    pvalue = input(\"Enter product increase/decrease value\")\n",
    "    product_stock[pname]+=int(pvalue)             \n",
    "    return(product_stock)"
   ]
  },
  {
   "cell_type": "code",
   "execution_count": null,
   "metadata": {},
   "outputs": [],
   "source": [
    "def main():\n",
    "\n",
    "    product_stock = {\"computer\":35, \"chair\": 100, \"desk\": 20, \"iphone\": 15}\n",
    "    print(\"The current stock\", product_stock)\n",
    "    \n",
    "    while(True):         \n",
    "        choice = show_functions()    \n",
    "        if choice == '1':\n",
    "            total, avg, minimum, maximum = gen_stats(product_stock)\n",
    "            print(\"total:\",total,\"\\naverage:\",avg,\"\\nminimum:\",minimum,\"\\nmaximum:\",maximum)\n",
    "        elif choice == '2':\n",
    "            val = check_stock(product_stock)\n",
    "            print(\"Current Stock value for entererd product is\", val)\n",
    "        elif choice == '3':\n",
    "            updated_stock = update_stock(product_stock)\n",
    "        else:\n",
    "            print(\"wrong operations...\")\n",
    "        \n",
    "        option = input(\"\\nDo you want to perform another operation [Enter(y/n)] :\")\n",
    "        \n",
    "        if option == 'n':\n",
    "            break\n",
    "        \n",
    "    print('Bye!')\n",
    "if __name__ == '__main__':\n",
    "    main()"
   ]
  }
 ],
 "metadata": {
  "kernelspec": {
   "display_name": "Python 3",
   "language": "python",
   "name": "python3"
  },
  "language_info": {
   "codemirror_mode": {
    "name": "ipython",
    "version": 3
   },
   "file_extension": ".py",
   "mimetype": "text/x-python",
   "name": "python",
   "nbconvert_exporter": "python",
   "pygments_lexer": "ipython3",
   "version": "3.7.4"
  }
 },
 "nbformat": 4,
 "nbformat_minor": 2
}
