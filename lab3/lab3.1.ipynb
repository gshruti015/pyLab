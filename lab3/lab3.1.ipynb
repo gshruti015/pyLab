{
 "cells": [
  {
   "cell_type": "markdown",
   "metadata": {},
   "source": [
    "Exercise 1.\n",
    "```\n",
    "A robot moves in a plane starting from the original point (0,0). The robot can move toward UP, DOWN, LEFT, and RIGHT with a given steps. The trace of robot movement is shown as the following:\n",
    "UP 7\n",
    "DOWN 5 LEFT 2 RIGHT 9 X\n",
    "The numbers after the direction are steps. Please write a Python program to compute the distance from the \n",
    "current position after a sequence of movement and original point. If the distance is a float, then just print the nearest integer.\n",
    "Example:\n",
    "If the following movements obtained from the user input are given to the program: \n",
    "UP 5\n",
    "DOWN 3\n",
    "LEFT 3\n",
    "RIGHT 2\n",
    "X\n",
    "Then the output of the program should be: 2\n",
    "Note: X means the end of movement.\n",
    "```"
   ]
  },
  {
   "cell_type": "code",
   "execution_count": null,
   "metadata": {},
   "outputs": [],
   "source": [
    "movement_dict={}\n",
    "movement = []\n",
    "while (True):\n",
    "    l = input(\"Enter steps intereatevley, enter 'X'to stop \")\n",
    "    movement.append(l)\n",
    "    if l == 'X':\n",
    "        break\n",
    "movement= movement[:-1] # remove the 'X'\n",
    "\n",
    "for i in range(len(movement)):\n",
    "    val = movement[i].split(' ')  # this splits the UP 2 into two values UP and 2, and stores them in a list called val\n",
    "    movement_dict[val[0]] = val[1] # this uses the indexes in val to assign key and value to the dictionory\n",
    "    \n",
    "origin = [0,0]\n",
    "for k,v in movement_dict.items():\n",
    "    if(k=='UP'):\n",
    "        origin[1] = origin[1] + int(v) \n",
    "    if(k=='DOWN'):\n",
    "        origin[1] = origin[1] - int(v) \n",
    "    if(k=='LEFT'):\n",
    "        origin[0] = origin[0] - int(v)\n",
    "    if(k=='RIGHT'):\n",
    "        origin[0] = origin[0] + int(v)\n",
    "dist = int((origin[0]**2 + origin[1]**2)**1/2) # computing euclidean\n",
    "print(int(round(dist))) # rounding and printing to nearest integer"
   ]
  },
  {
   "cell_type": "markdown",
   "metadata": {},
   "source": [
    "Exercise 2.\n",
    "```\n",
    "Write a Python program to compute the frequency of words from the article. The output should output after sorting the key alphanumerically. Suppose the article is obtained from the user. The input ends until the user sends a new line: X\n",
    "Example:\n",
    "Please provide the article:\n",
    "Beginner means someone who has just gone through an introductory Python course.\n",
    "He can solve some problems with 1 or 2 Python classes or functions.\n",
    "Normally, the answers could directly be found in the textbooks.\n",
    "Intermediate means someone who has just learned Python, but already has a relatively strong programming background from before.\n",
    "X\n",
    "Output: \n",
    "1: 1\n",
    "2: 1 \n",
    "an: 1\n",
    ". . .\n",
    "```"
   ]
  },
  {
   "cell_type": "code",
   "execution_count": null,
   "metadata": {},
   "outputs": [],
   "source": [
    "print(\"Please provide the article:\")\n",
    "article = []\n",
    "while (True):\n",
    "    l = input(\"Enter lines intereatevley, enter 'X' to stop \") \n",
    "    l = l.lower()\n",
    "    val = l.split(\" \")    \n",
    "    article.append(val)\n",
    "    if l.upper().lower() == 'x':\n",
    "        break\n",
    "        \n",
    "article_new = [j.replace(\".\", \"\") for i in article for j in i] #list comprehsnion for nested loop, also replaces full stop\n",
    "article_new = article_new[:-1]\n",
    "unique_item = {}\n",
    "\n",
    "for item in article_new:\n",
    "    unique_item[item]= unique_item.get(item,0)+1\n",
    "\n",
    "d_keys = list(unique_item.keys())\n",
    "d_keys.sort()\n",
    "for k in d_keys:\n",
    "    print(k, unique_item[k])"
   ]
  }
 ],
 "metadata": {
  "kernelspec": {
   "display_name": "Python 3",
   "language": "python",
   "name": "python3"
  },
  "language_info": {
   "codemirror_mode": {
    "name": "ipython",
    "version": 3
   },
   "file_extension": ".py",
   "mimetype": "text/x-python",
   "name": "python",
   "nbconvert_exporter": "python",
   "pygments_lexer": "ipython3",
   "version": "3.7.4"
  }
 },
 "nbformat": 4,
 "nbformat_minor": 2
}
