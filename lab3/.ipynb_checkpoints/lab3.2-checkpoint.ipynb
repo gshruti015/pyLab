{
 "cells": [
  {
   "cell_type": "markdown",
   "metadata": {},
   "source": [
    "1. Given customer bank saving data customer-savings.txt, please answer the following questions using Python programming.\n",
    "1. What’stheaveragebalanceformaleandfemale?\n",
    "2. What’stheaveragebalanceforwhilecollarandbluecollarinEngland?\n",
    "Data columns in customer-savings.txt (separated by comma):\n",
    "Customer ID, Customer Name, Customer Surname, Gender, Age, Region, Job Classification, Date joined, Balance 100000001,Simon,Walsh,Male,21,England,White Collar,05.Jan.15,113810.15 100000003,Liam,Brown,Male,46,England,White Collar,07.Jan.15,101536.83"
   ]
  },
  {
   "cell_type": "code",
   "execution_count": 2,
   "metadata": {},
   "outputs": [
    {
     "ename": "FileNotFoundError",
     "evalue": "[Errno 2] No such file or directory: '\\x03.2_lab\\\\customer-savings.txt'",
     "output_type": "error",
     "traceback": [
      "\u001b[0;31m---------------------------------------------------------------------------\u001b[0m",
      "\u001b[0;31mFileNotFoundError\u001b[0m                         Traceback (most recent call last)",
      "\u001b[0;32m<ipython-input-2-c1a69c552809>\u001b[0m in \u001b[0;36m<module>\u001b[0;34m\u001b[0m\n\u001b[0;32m----> 1\u001b[0;31m \u001b[0mfile\u001b[0m \u001b[0;34m=\u001b[0m \u001b[0mopen\u001b[0m\u001b[0;34m(\u001b[0m\u001b[0;34m'\\3.2_lab\\customer-savings.txt'\u001b[0m\u001b[0;34m)\u001b[0m\u001b[0;34m\u001b[0m\u001b[0;34m\u001b[0m\u001b[0m\n\u001b[0m",
      "\u001b[0;31mFileNotFoundError\u001b[0m: [Errno 2] No such file or directory: '\\x03.2_lab\\\\customer-savings.txt'"
     ]
    }
   ],
   "source": [
    "file = open('\\3.2_lab\\customer-savings.txt')"
   ]
  },
  {
   "cell_type": "markdown",
   "metadata": {},
   "source": [
    "2. Combine multiple files\n",
    "Use Python programming to combine two text files: customer-status.txt and sales.txt\n",
    "Data columns in customer-status.txt (separated by comma):\n",
    "Account Number, Name, Status 527099,Sanford and Sons,bronze\n",
    "Data columns in sales.txt (separated by comma):\n",
    "Account Name, Name, SKU, Quantity, Unit Price, Ext Price, Date\n",
    "163416,Purdy-Kunde,S1-30248,19,65.03,1235.57,2014-03-01 16:07:40 527099,Sanford and Sons,S2-82423,3,76.21,228.63,2014-03-01 17:18:01\n",
    "After you combine, you will see the following:\n",
    "527099,Sanford and Sons,S2-82423,3,76.21,228.63,2014-03-01 17:18:01,bronze"
   ]
  }
 ],
 "metadata": {
  "kernelspec": {
   "display_name": "Python 3",
   "language": "python",
   "name": "python3"
  },
  "language_info": {
   "codemirror_mode": {
    "name": "ipython",
    "version": 3
   },
   "file_extension": ".py",
   "mimetype": "text/x-python",
   "name": "python",
   "nbconvert_exporter": "python",
   "pygments_lexer": "ipython3",
   "version": "3.7.4"
  }
 },
 "nbformat": 4,
 "nbformat_minor": 2
}
