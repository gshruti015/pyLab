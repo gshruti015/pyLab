{
 "cells": [
  {
   "cell_type": "code",
   "execution_count": null,
   "metadata": {},
   "outputs": [],
   "source": [
    "movement_dict={}\n",
    "movement = []\n",
    "while (True):\n",
    "    l = input(\"Enter steps intereatevley, enter 'X'to stop \")\n",
    "    movement.append(l)\n",
    "    if l == 'X':\n",
    "        break\n",
    "movement= movement[:-1]\n",
    "\n",
    "for i in range(len(movement)):\n",
    "    val = movement[i].split(' ') \n",
    "    movement_dict[val[0]] = val[1]\n",
    "    \n",
    "origin = [0,0]\n",
    "for k,v in movement_dict.items():\n",
    "    if(k=='UP'):\n",
    "        origin[1] = origin[1] + int(v) \n",
    "    if(k=='DOWN'):\n",
    "        origin[1] = origin[1] - int(v) \n",
    "    if(k=='LEFT'):\n",
    "        origin[0] = origin[0] - int(v)\n",
    "    if(k=='RIGHT'):\n",
    "        origin[0] = origin[0] + int(v)\n",
    "dist = int((origin[0]**2 + origin[1]**2)**1/2)\n",
    "print(int(dist))"
   ]
  },
  {
   "cell_type": "code",
   "execution_count": null,
   "metadata": {},
   "outputs": [],
   "source": [
    "print(\"Please provide the article:\")\n",
    "article = []\n",
    "while (True):\n",
    "    l = input(\"Enter lines intereatevley, enter 'x' to stop \")\n",
    "    l = l.lower()\n",
    "    val = l.split(\" \")    \n",
    "    article.append(val)\n",
    "    if l == 'x':\n",
    "        break\n",
    "        \n",
    "article_new = [j for i in article for j in i]\n",
    "article_new = article_new[:-1]\n",
    "unique_item = {}\n",
    "\n",
    "\n",
    "for item in article_new:\n",
    "    unique_item[item]= unique_item.get(item,0)+1\n",
    "\n",
    "d_keys = list(unique_item.keys())\n",
    "d_keys.sort()\n",
    "for k in d_keys:\n",
    "    print(k, unique_item[k])"
   ]
  }
 ],
 "metadata": {
  "kernelspec": {
   "display_name": "Python 3",
   "language": "python",
   "name": "python3"
  },
  "language_info": {
   "codemirror_mode": {
    "name": "ipython",
    "version": 3
   },
   "file_extension": ".py",
   "mimetype": "text/x-python",
   "name": "python",
   "nbconvert_exporter": "python",
   "pygments_lexer": "ipython3",
   "version": "3.7.4"
  }
 },
 "nbformat": 4,
 "nbformat_minor": 2
}
