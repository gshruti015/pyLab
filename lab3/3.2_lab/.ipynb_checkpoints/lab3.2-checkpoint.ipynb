{
 "cells": [
  {
   "cell_type": "markdown",
   "metadata": {},
   "source": [
    "1. Given customer bank saving data customer-savings.txt, please answer the following questions using Python programming.\n",
    "  1. What’s the average balance for male and female?\n",
    "  2. What’s the average balance for while collar and bluecollar in England?\n",
    "  \n",
    "  \n",
    "```\n",
    "Data columns in customer-savings.txt (separated by comma):\n",
    "Customer ID, Customer Name, Customer Surname, Gender, Age, Region, Job Classification, Date joined, Balance \n",
    "\n",
    "100000001,Simon,Walsh,Male,21,England,White Collar,05.Jan.15,113810.15 \n",
    "100000003,Liam,Brown,Male,46,England,White Collar,07.Jan.15,101536.83\n",
    "```"
   ]
  },
  {
   "cell_type": "code",
   "execution_count": 78,
   "metadata": {},
   "outputs": [
    {
     "name": "stdout",
     "output_type": "stream",
     "text": [
      "Average balance for male: 21584.2\n",
      "average balance for female: 18182.25\n",
      "average balance for white collar: 14642.16\n",
      "average balance for blue collar: 3305.27\n",
      "\n"
     ]
    }
   ],
   "source": [
    "file = open('customer-savings.txt','r')\n",
    "fileread = file.readlines()\n",
    "men = 0\n",
    "women = 0\n",
    "wcollar = 0\n",
    "bcollar = 0\n",
    "final=[]\n",
    "\n",
    "for i in range(len(fileread)):\n",
    "    final.append(fileread[i].rstrip('\\n').split(','))\n",
    "\n",
    "for val in final:\n",
    "    if val[3] ==\"Male\":\n",
    "        men+= float(val[-1])\n",
    "    if val[3] ==\"Female\":\n",
    "        women+= float(val[-1])\n",
    "    if val[-4] == 'England':\n",
    "        if val[-3] ==\"White Collar\":\n",
    "            wcollar+=float(val[-1])\n",
    "        if val[-3] ==\"Blue Collar\":\n",
    "            bcollar+= float(val[-1])\n",
    "\n",
    "menavg = round(men/len(fileread),2)\n",
    "womenavg = round(women/len(fileread),2)\n",
    "wcollaravg = round(wcollar/len(fileread),2)\n",
    "bcollaravg = round(bcollar/len(fileread),2)\n",
    "\n",
    "print(\"Average balance for male: \" +str(menavg)+'\\n'+\"average balance for female: \" + str(womenavg)+'\\n'\n",
    "      + \"average balance for white collar: \" + str(wcollaravg)+'\\n'+ \"average balance for blue collar: \" + str(bcollaravg)+'\\n')\n"
   ]
  },
  {
   "cell_type": "markdown",
   "metadata": {},
   "source": [
    "2. Combine multiple files\n",
    "\n",
    "```\n",
    "Use Python programming to combine two text files: customer-status.txt and sales.txt\n",
    "\n",
    "Data columns in customer-status.txt (separated by comma):\n",
    "Account Number, Name, Status \n",
    "527099,Sanford and Sons,bronze\n",
    "\n",
    "Data columns in sales.txt (separated by comma):\n",
    "Account Name, Name, SKU, Quantity, Unit Price, Ext Price, Date\n",
    "163416,Purdy-Kunde,S1-30248,19,65.03,1235.57,2014-03-01 16:07:40 527099,Sanford and Sons,S2-  82423,3,76.21,228.63,2014-03-01 17:18:01\n",
    "\n",
    "After you combine, you will see the following:\n",
    "527099,Sanford and Sons,S2-82423,3,76.21,228.63,2014-03-01 17:18:01,bronze\n",
    "```"
   ]
  },
  {
   "cell_type": "code",
   "execution_count": 136,
   "metadata": {},
   "outputs": [
    {
     "name": "stdout",
     "output_type": "stream",
     "text": [
      "['account number', 'name', 'sku', 'quantity', 'unit price', 'ext price', 'date', 'status']\n",
      "['163416', 'Purdy-Kunde', 'S1-30248', '19', '65.03', '1235.57', '2014-03-01 16:07:40']\n",
      "['527099', 'Sanford and Sons', 'S2-82423', '3', '76.21', '228.63', '2014-03-01 17:18:01', 'bronze']\n",
      "['527099', 'Sanford and Sons', 'B1-50809', '8', '70.78', '566.24', '2014-03-01 18:53:09', 'bronze']\n",
      "['737550', '\"Fritsch', ' Russel and Anderson\"', 'B1-50809', '20', '50.11', '1002.2', '2014-03-01 23:47:17']\n",
      "['688981', 'Keeling LLC', 'B1-86481', '-1', '97.16', '-97.16', '2014-03-02 01:46:44', 'silver']\n",
      "['729833', 'Koepp Ltd', 'S1-82801', '26', '50.29', '1307.54', '2014-03-02 02:59:26', 'silver']\n",
      "['307599', '\"Kassulke', ' Ondricka and Metz\"', 'S1-93683', '-1', '86.38', '-86.38', '2014-03-02 03:29:04', 'bronze']\n",
      "['412290', 'Jerde-Hilpert', 'S2-23246', '27', '58.87', '1589.49', '2014-03-02 12:10:30', 'bronze']\n",
      "['307599', '\"Kassulke', ' Ondricka and Metz\"', 'S2-34077', '48', '53.36', '2561.28', '2014-03-02 14:12:28', 'bronze']\n",
      "['141962', 'Herman LLC', 'S2-10342', '49', '31.39', '1538.11', '2014-03-02 23:08:02', 'gold']\n",
      "['257198', '\"Cronin', ' Oberbrunner and Spencer\"', 'S2-16558', '7', '26.21', '183.47', '2014-03-03 00:29:24', 'gold']\n",
      "['257198', '\"Cronin', ' Oberbrunner and Spencer\"', 'S2-23246', '40', '49.19', '1967.6', '2014-03-03 10:17:24', 'gold']\n",
      "['688981', 'Keeling LLC', 'B1-38851', '25', '74.68', '1867', '2014-03-03 18:18:54', 'silver']\n",
      "['239344', 'Stokes LLC', 'S1-82801', '41', '78.9', '3234.9', '2014-03-04 01:06:20', 'gold']\n",
      "['218895', 'Kulas Inc', 'S2-78676', '38', '89.02', '3382.76', '2014-03-04 01:17:11', 'bronze']\n",
      "['642753', 'Pollich LLC', 'S2-10342', '40', '56.85', '2274', '2014-03-04 01:49:22', 'bronze']\n"
     ]
    }
   ],
   "source": [
    "file1 = open('customer-status.csv','r')\n",
    "file2 = open('sales.csv','r')\n",
    "file11 = file1.readlines()\n",
    "file21 = file2.readlines()\n",
    "\n",
    "file1f = []\n",
    "file2f = []\n",
    "\n",
    "for line in range(len(file11)):\n",
    "    file1f.append(file11[line].rstrip('\\n').split(','))\n",
    "\n",
    "for line in range(len(file11)):\n",
    "    file2f.append(file21[line].rstrip('\\n').split(','))\n",
    "    \n",
    "for i in range(len(file2f)):\n",
    "    for j in range(len(file1f)):\n",
    "        if file2f[i][0] == file1f[j][0]:\n",
    "            file2f[i].append(file1f[j][-1])\n",
    "\n",
    "for i in range(len(file2f)):\n",
    "    print(file2f[i]) "
   ]
  },
  {
   "cell_type": "code",
   "execution_count": null,
   "metadata": {},
   "outputs": [],
   "source": []
  }
 ],
 "metadata": {
  "kernelspec": {
   "display_name": "Python 3",
   "language": "python",
   "name": "python3"
  },
  "language_info": {
   "codemirror_mode": {
    "name": "ipython",
    "version": 3
   },
   "file_extension": ".py",
   "mimetype": "text/x-python",
   "name": "python",
   "nbconvert_exporter": "python",
   "pygments_lexer": "ipython3",
   "version": "3.7.4"
  }
 },
 "nbformat": 4,
 "nbformat_minor": 2
}
