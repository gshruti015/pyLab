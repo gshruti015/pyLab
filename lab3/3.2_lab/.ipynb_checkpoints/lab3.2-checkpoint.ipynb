{
 "cells": [
  {
   "cell_type": "markdown",
   "metadata": {},
   "source": [
    "1. Given customer bank saving data customer-savings.txt, please answer the following questions using Python programming.\n",
    "  1. What’s the average balance for male and female?\n",
    "  2. What’s the average balance for while collar and bluecollar in England?\n",
    "  \n",
    "  \n",
    "```\n",
    "Data columns in customer-savings.txt (separated by comma):\n",
    "Customer ID, Customer Name, Customer Surname, Gender, Age, Region, Job Classification, Date joined, Balance \n",
    "\n",
    "100000001,Simon,Walsh,Male,21,England,White Collar,05.Jan.15,113810.15 \n",
    "100000003,Liam,Brown,Male,46,England,White Collar,07.Jan.15,101536.83\n",
    "```"
   ]
  },
  {
   "cell_type": "code",
   "execution_count": 5,
   "metadata": {},
   "outputs": [
    {
     "name": "stdout",
     "output_type": "stream",
     "text": [
      "Average balance for male: 40018.01\n",
      "Average balance for female: 39471.9\n",
      "Average balance for white collar: 39156.31\n",
      "Average balance for blue collar: 38567.84\n",
      "\n"
     ]
    }
   ],
   "source": [
    "file = open('customer-savings.txt','r')\n",
    "fileread = file.readlines()\n",
    "men = 0\n",
    "num_men = 0\n",
    "women = 0\n",
    "num_women = 0\n",
    "wcollar = 0\n",
    "num_wcollar = 0\n",
    "bcollar = 0\n",
    "num_bcollar = 0\n",
    "final=[]\n",
    "\n",
    "for i in range(len(fileread)):\n",
    "    final.append(fileread[i].rstrip('\\n').split(','))\n",
    "\n",
    "for val in final:\n",
    "    if val[3] ==\"Male\":\n",
    "        men+= float(val[-1])\n",
    "        num_men += 1\n",
    "    if val[3] ==\"Female\":\n",
    "        women+= float(val[-1])\n",
    "        num_women +=1\n",
    "    if val[-4] == 'England':\n",
    "        if val[-3] ==\"White Collar\":\n",
    "            wcollar +=float(val[-1])\n",
    "            num_wcollar +=1\n",
    "        if val[-3] ==\"Blue Collar\":\n",
    "            bcollar += float(val[-1])\n",
    "            num_bcollar +=1\n",
    "\n",
    "menavg = round(men/num_men,2)\n",
    "womenavg = round(women/num_women,2)\n",
    "wcollaravg = round(wcollar/num_wcollar,2)\n",
    "bcollaravg = round(bcollar/num_bcollar,2)\n",
    "\n",
    "print(\"Average balance for male: \" +str(menavg)+'\\n'+\"Average balance for female: \" + str(womenavg)+'\\n'\n",
    "      + \"Average balance for white collar: \" + str(wcollaravg)+'\\n'+ \"Average balance for blue collar: \" + str(bcollaravg)+'\\n')\n"
   ]
  },
  {
   "cell_type": "markdown",
   "metadata": {},
   "source": [
    "2. Combine multiple files\n",
    "\n",
    "```\n",
    "Use Python programming to combine two text files: customer-status.txt and sales.txt\n",
    "\n",
    "Data columns in customer-status.txt (separated by comma):\n",
    "Account Number, Name, Status \n",
    "527099,Sanford and Sons,bronze\n",
    "\n",
    "Data columns in sales.txt (separated by comma):\n",
    "Account Name, Name, SKU, Quantity, Unit Price, Ext Price, Date\n",
    "163416,Purdy-Kunde,S1-30248,19,65.03,1235.57,2014-03-01 16:07:40 527099,Sanford and Sons,S2-  82423,3,76.21,228.63,2014-03-01 17:18:01\n",
    "\n",
    "After you combine, you will see the following:\n",
    "527099,Sanford and Sons,S2-82423,3,76.21,228.63,2014-03-01 17:18:01,bronze\n",
    "```"
   ]
  },
  {
   "cell_type": "code",
   "execution_count": null,
   "metadata": {},
   "outputs": [],
   "source": [
    "file1 = open('customer-status.csv','r')\n",
    "file2 = open('sales.csv','r')\n",
    "file11 = file1.readlines()\n",
    "file21 = file2.readlines()\n",
    "\n",
    "file1f = []\n",
    "file2f = []\n",
    "\n",
    "\n",
    "for line in range(len(file11)):\n",
    "    file1f.append(file11[line].rstrip('\\n').split(','))\n",
    "\n",
    "for line in range(len(file21)):\n",
    "    file2f.append(file21[line].rstrip('\\n').split(','))\n",
    "    \n",
    "# uncomment based on type of ouput required:\n",
    "\n",
    "#Module 1\n",
    "# this is for complete records\n",
    "for i in range(len(file2f)):\n",
    "    for j in range(len(file1f)):\n",
    "        if file2f[i][0] == file1f[j][0]:\n",
    "            file2f[i].append(file1f[j][-1])\n",
    "\n",
    "for line in range(len(file2f)):\n",
    "    print(file2f[line])\n",
    "print(len(file2f)) #equal to length of initial file\n",
    "\n",
    "\n",
    "# Module 2\n",
    "# # this is for only relevant records\n",
    "finalff=[]   \n",
    "val=[]\n",
    "for i in range(len(file2f)):\n",
    "    for j in range(len(file1f)):\n",
    "        if file2f[i][0] == file1f[j][0]:\n",
    "            val= file2f[i]\n",
    "            val.append(file1f[j][-1])            \n",
    "            finalff.append(val)\n",
    "            \n",
    "for line in range(len(finalff)):\n",
    "    print(finalff[line])\n",
    "print(len(finalff)) #equal to length of common records"
   ]
  }
 ],
 "metadata": {
  "kernelspec": {
   "display_name": "Python 3",
   "language": "python",
   "name": "python3"
  },
  "language_info": {
   "codemirror_mode": {
    "name": "ipython",
    "version": 3
   },
   "file_extension": ".py",
   "mimetype": "text/x-python",
   "name": "python",
   "nbconvert_exporter": "python",
   "pygments_lexer": "ipython3",
   "version": "3.7.4"
  }
 },
 "nbformat": 4,
 "nbformat_minor": 2
}
